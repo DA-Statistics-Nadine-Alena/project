{
 "cells": [
  {
   "cell_type": "markdown",
   "metadata": {},
   "source": [
    "# Report"
   ]
  },
  {
   "cell_type": "markdown",
   "metadata": {},
   "source": [
    "## Setup"
   ]
  },
  {
   "cell_type": "code",
   "execution_count": 1,
   "metadata": {},
   "outputs": [],
   "source": [
    "import numpy as np\n",
    "import pandas as pd\n",
    "import altair as alt\n",
    "\n",
    "from sklearn.model_selection import train_test_split\n",
    "from sklearn.model_selection import cross_val_score\n",
    "from sklearn.linear_model import LinearRegression\n",
    "from sklearn.linear_model import LogisticRegression\n",
    "from sklearn.metrics import r2_score\n",
    "from sklearn.metrics import mean_squared_error\n",
    "from sklearn.metrics import mean_absolute_error\n",
    "from sklearn.model_selection import cross_val_score\n",
    "from sklearn.metrics import ConfusionMatrixDisplay\n",
    "from sklearn.metrics import classification_report\n",
    "from sklearn.metrics import RocCurveDisplay\n",
    "from sklearn.metrics import roc_auc_score\n",
    "from sklearn.feature_selection import RFE\n",
    "from joblib import dump, load\n"
   ]
  },
  {
   "cell_type": "markdown",
   "metadata": {},
   "source": [
    "## Introduction and data"
   ]
  },
  {
   "cell_type": "markdown",
   "metadata": {},
   "source": [
    "> REMOVE THE FOLLOWING TEXT\n",
    "\n",
    "This section includes an introduction to the project motivation, data, and research question.\n",
    "Describe the data and definitions of key variables.\n",
    "\n",
    "It should also include some exploratory data analysis.\n",
    "\n",
    "All of the EDA won't fit in the paper, so focus on the EDA for the response variable and a few other interesting variables and relationships."
   ]
  },
  {
   "cell_type": "markdown",
   "metadata": {},
   "source": [
    "### 1.1 Introduction and motivation"
   ]
  },
  {
   "cell_type": "markdown",
   "metadata": {},
   "source": [
    "In einer Welt, die zunehmend alle Bereiche des Lebens von digitaler Interaktionen geprägt sind, hat sich der Weg der zwischenmenschlichen Beziehungen grundlegend gewandelt. Um einzukaufen, Vertragsanliegen zu klären oder neue Leute kennenzulernen, reicht heutzutage ein Klick auf das Display des Smartphones. Es ist nicht mehr notwendig das Haus zu verlassen. Insbesondere die Nutzung von Dating-Plattformen wie Lovoo, Tinder oder Bumble ermöglicht es, potenzielle Partner auf eine Weise zu finden, die weit über die alten, herkömmlichen Methoden hinausgeht. Bereits jetzt lernen sich laut repräsentativer Umfrage 24% der Paare im Internet bzw. via Dating-App kennen. Damit ist diese Methode, zusammen mit dem Kennenlernen über Freunde, die häufigste Art und Weise im Jahr 2023 seinen Partner zu finden.(Quelle: https://de.statista.com/statistik/daten/studie/1025036/umfrage/umfrage-in-deutschland-zum-ort-des-kennenlernens-des-partners/) Doch durch die vermehrte Nutzung von Dating Plattformen steht jedes Profil vor der Herausforderung, aus der Masse hervorzustechen, positive Reaktionen zu generieren und anderen Nutzern aufzufallen.\n",
    "\n",
    "In dieser Ära des digitalen Wandels stehen Lovoo-Nutzer vor der Herausforderung, ihre Persönlichkeit und Anziehungskraft in einem begrenzten virtuellen Raum auszudrücken. Die einzige Möglichkeit, die Aufmerksamkeit anderer Nutzer auf sich zu ziehen, besteht in der Ausgestaltung des Nutzerprofils, das nur begrenzten Informationsumfang zulässt. Aber was macht ein erfolgreiches Lovoo-Profil aus? Welche Profilmerkmale generieren genügend Mehrwert, um andere Nutzer zur Interaktion mit dem eigenen Profil zu bewegen? Die Antworten auf diese Fragen können nicht nur für Einzelpersonen von Interesse sein, die aktiv nach romantischen Beziehungen suchen, sondern werfen auch tiefergehende Fragen über menschliches Verhalten, Vorlieben und Kommunikationsmuster auf."
   ]
  },
  {
   "cell_type": "markdown",
   "metadata": {},
   "source": [
    "### 1.2 Research question"
   ]
  },
  {
   "cell_type": "markdown",
   "metadata": {},
   "source": [
    "Durch die Analyse weiblicher Nutzerprofile aus dem Jahr 2015 soll anhand linearer Modelle ermittelt werden, welche Voraussetzungen ein Profil erfüllen muss, um seine Chancen auf virtuelle Interaktion zu erhöhen. Diese Erkenntnisse ermöglichen nicht nur eine personalisierte Optimierung von Profilen für individuellen Erfolg, sondern eröffnen auch Einblicke in soziokulturelle Dynamiken und digitale Kommunikationsstrategien.\n",
    "\n",
    "Als Datengrundlage dienen die Informationen auf den Accounts verschiedener weiblicher Nutzer, die während der Interaktion mit männlichen Dummy-Profilen ausgelesen wurden. Zu den für diese Analyse relevanten Daten zählen vor allem die Informationsdichte des Profils, die Anzahl der hochgeladenen Bilder, der Profilbesuche und generierten Kisses, sowie das Alter der Person."
   ]
  },
  {
   "cell_type": "markdown",
   "metadata": {},
   "source": [
    "Anhand der vorliegenden Angaben je Profil soll mithilfe einer linearen Regression im folgenden erforscht werden, welche Profileigenschaften vorliegen sollten, um möglichst viele Profilbesuche zu generieren, was die Wahrscheinlichkeit einer Interaktion mit anderen Nutzern erhöht. Ziel ist es, die Anzahl der Profilbesuche anhand der vorliegenden Nutzerdaten vorherzusagen und damit den wahrscheinlichen Erfolg eines Profils zu bestimmen.\n",
    "\n",
    "Zudem wird mithilfe der logistischen Regression untersucht, wie ein Account beschaffen sein muss, um Fans zu generieren, also andere User dazu zu bewegen, dem Profil zu folgen. Ziel ist es, anhand der Nutzerdaten vorherzusagen, ob ein Profil das Potenzial hat, mindestens einen Fan zu generieren oder nicht."
   ]
  },
  {
   "cell_type": "markdown",
   "metadata": {},
   "source": [
    "### 1.3 Data"
   ]
  },
  {
   "cell_type": "markdown",
   "metadata": {},
   "source": [
    "#### 1.3.1 Data origin"
   ]
  },
  {
   "cell_type": "markdown",
   "metadata": {},
   "source": [
    "Die Erhebung der Daten für den Datensatz erfolgte im Frühjahr 2015 durch gezielte Erfassung von Nutzerprofilinformationen auf Lovoo. Für diese Zwecke wurden eigens vom Urheber entwickelte Tools eingesetzt, die es ermöglichten, während der Nutzung der Plattform, des Aufrufens von Profilen und Stellens von Suchanfragen präzise Daten zu sammeln.\n",
    "\n",
    "Um die Datenerhebung durchzuführen, wurden zwei Profile erstellt, die den Empfehlungen des Lovoo-Algorithmus folgten. Diese Profile waren auf die Person und die Interessen des Urhebers ausgerichtet und signalisierten Offenheit für Freundschaften, Chats und Dates. Da der Urheber männlich und ausschließlich auf der Suche nach Frauen ist, sind diese Faktoren bei Erstellung der Profile und der Auswahl potenzieller Matches durch den Algorithmus berücksichtigt. Folglich besteht der Datensatz ausschließlich aus weiblichen Nutzerprofilen. Um auch Daten für andere Geschlechter oder Altersgruppen zu erfassen, müsste eine separate Datenerhebung mit entsprechenden Profilen erfolgen.\n",
    "\n",
    "Interessanterweise zeigte sich, dass der Empfehlungsalgorithmus von Lovoo häufig dieselben Nutzerprofile ausgab. Dies lässt darauf schließen, dass der Algorithmus wahrscheinlich stark auf Einstellungen wie den Standort angewiesen war, um Nutzer in der Nähe zu empfehlen. Möglicherweise spielten auch Cookies eine Rolle. Diese Faktoren führten dazu, dass die Anzahl der unterschiedlichen Nutzerprofile, die in den Datensatz aufgenommen wurden, begrenzt war."
   ]
  },
  {
   "cell_type": "markdown",
   "metadata": {},
   "source": [
    "#### 1.3.2 Data structure"
   ]
  },
  {
   "cell_type": "code",
   "execution_count": 2,
   "metadata": {},
   "outputs": [],
   "source": [
    "URL = 'https://raw.githubusercontent.com/DA-Statistics-Nadine-Alena/project/main/references/LOVOO_Daten.csv'\n",
    "df = pd.read_csv(URL)"
   ]
  },
  {
   "cell_type": "code",
   "execution_count": 3,
   "metadata": {
    "scrolled": true
   },
   "outputs": [
    {
     "data": {
      "text/html": [
       "<div>\n",
       "<style scoped>\n",
       "    .dataframe tbody tr th:only-of-type {\n",
       "        vertical-align: middle;\n",
       "    }\n",
       "\n",
       "    .dataframe tbody tr th {\n",
       "        vertical-align: top;\n",
       "    }\n",
       "\n",
       "    .dataframe thead th {\n",
       "        text-align: right;\n",
       "    }\n",
       "</style>\n",
       "<table border=\"1\" class=\"dataframe\">\n",
       "  <thead>\n",
       "    <tr style=\"text-align: right;\">\n",
       "      <th></th>\n",
       "      <th>gender</th>\n",
       "      <th>genderLooking</th>\n",
       "      <th>age</th>\n",
       "      <th>name</th>\n",
       "      <th>counts_details</th>\n",
       "      <th>counts_pictures</th>\n",
       "      <th>counts_profileVisits</th>\n",
       "      <th>counts_kisses</th>\n",
       "      <th>counts_fans</th>\n",
       "      <th>counts_g</th>\n",
       "      <th>...</th>\n",
       "      <th>shareProfileEnabled</th>\n",
       "      <th>lastOnlineDate</th>\n",
       "      <th>lastOnlineTime</th>\n",
       "      <th>birthd</th>\n",
       "      <th>crypt</th>\n",
       "      <th>freetext</th>\n",
       "      <th>whazzup</th>\n",
       "      <th>pictureId</th>\n",
       "      <th>userId</th>\n",
       "      <th>isSystemProfile</th>\n",
       "    </tr>\n",
       "  </thead>\n",
       "  <tbody>\n",
       "    <tr>\n",
       "      <th>0</th>\n",
       "      <td>F</td>\n",
       "      <td>M</td>\n",
       "      <td>25.0</td>\n",
       "      <td>daeni</td>\n",
       "      <td>1.00</td>\n",
       "      <td>4.0</td>\n",
       "      <td>8279.0</td>\n",
       "      <td>239.0</td>\n",
       "      <td>0.0</td>\n",
       "      <td>3.0</td>\n",
       "      <td>...</td>\n",
       "      <td>1.0</td>\n",
       "      <td>2015-04-25T20:43:26Z</td>\n",
       "      <td>1.429995e+09</td>\n",
       "      <td>0.0</td>\n",
       "      <td>NaN</td>\n",
       "      <td>Nur tote Fisch schwimmen mit dem Strom</td>\n",
       "      <td>Nur tote fische schwimmen mit dem strom</td>\n",
       "      <td>4e3842f79b70e7ea57000064</td>\n",
       "      <td>55303fc3160ba0eb728b4575</td>\n",
       "      <td>NaN</td>\n",
       "    </tr>\n",
       "    <tr>\n",
       "      <th>1</th>\n",
       "      <td>F</td>\n",
       "      <td>M</td>\n",
       "      <td>22.0</td>\n",
       "      <td>italiana 92</td>\n",
       "      <td>0.85</td>\n",
       "      <td>5.0</td>\n",
       "      <td>663.0</td>\n",
       "      <td>13.0</td>\n",
       "      <td>0.0</td>\n",
       "      <td>0.0</td>\n",
       "      <td>...</td>\n",
       "      <td>1.0</td>\n",
       "      <td>2015-04-26T09:19:35Z</td>\n",
       "      <td>1.430040e+09</td>\n",
       "      <td>0.0</td>\n",
       "      <td>NaN</td>\n",
       "      <td>NaN</td>\n",
       "      <td>Primaveraaa&lt;3</td>\n",
       "      <td>4e3d34bf5d2bce7b160006a3</td>\n",
       "      <td>552e7b61c66da10d1e8b4c82</td>\n",
       "      <td>NaN</td>\n",
       "    </tr>\n",
       "    <tr>\n",
       "      <th>2</th>\n",
       "      <td>F</td>\n",
       "      <td>M</td>\n",
       "      <td>21.0</td>\n",
       "      <td>Lauraaa</td>\n",
       "      <td>0.00</td>\n",
       "      <td>4.0</td>\n",
       "      <td>1369.0</td>\n",
       "      <td>88.0</td>\n",
       "      <td>0.0</td>\n",
       "      <td>2.0</td>\n",
       "      <td>...</td>\n",
       "      <td>1.0</td>\n",
       "      <td>2015-04-06T14:24:07Z</td>\n",
       "      <td>1.428330e+09</td>\n",
       "      <td>0.0</td>\n",
       "      <td>NaN</td>\n",
       "      <td>NaN</td>\n",
       "      <td>NaN</td>\n",
       "      <td>4ec96c090dc82cb25d00000a</td>\n",
       "      <td>54a584ecc56da128638b4674</td>\n",
       "      <td>NaN</td>\n",
       "    </tr>\n",
       "    <tr>\n",
       "      <th>3</th>\n",
       "      <td>F</td>\n",
       "      <td>none</td>\n",
       "      <td>20.0</td>\n",
       "      <td>Qqkwmdowlo</td>\n",
       "      <td>0.12</td>\n",
       "      <td>3.0</td>\n",
       "      <td>22187.0</td>\n",
       "      <td>1015.0</td>\n",
       "      <td>2.0</td>\n",
       "      <td>3.0</td>\n",
       "      <td>...</td>\n",
       "      <td>1.0</td>\n",
       "      <td>2015-04-07T11:21:01Z</td>\n",
       "      <td>1.428406e+09</td>\n",
       "      <td>0.0</td>\n",
       "      <td>NaN</td>\n",
       "      <td>NaN</td>\n",
       "      <td>Je pense donc je suis.  Instagram quedev</td>\n",
       "      <td>4eef8b81ebf2c8f64000000c</td>\n",
       "      <td>54c92738076ea1b5338b4735</td>\n",
       "      <td>NaN</td>\n",
       "    </tr>\n",
       "    <tr>\n",
       "      <th>4</th>\n",
       "      <td>F</td>\n",
       "      <td>M</td>\n",
       "      <td>21.0</td>\n",
       "      <td>schaessie {3</td>\n",
       "      <td>0.15</td>\n",
       "      <td>12.0</td>\n",
       "      <td>35262.0</td>\n",
       "      <td>1413.0</td>\n",
       "      <td>9.0</td>\n",
       "      <td>12.0</td>\n",
       "      <td>...</td>\n",
       "      <td>1.0</td>\n",
       "      <td>2015-04-06T14:25:20Z</td>\n",
       "      <td>1.428330e+09</td>\n",
       "      <td>0.0</td>\n",
       "      <td>NaN</td>\n",
       "      <td>NaN</td>\n",
       "      <td>Instagram: JESSSIESCH</td>\n",
       "      <td>4ef3cc5aa9d0b3d07d000017</td>\n",
       "      <td>54e1a6f6c76da135748b4a3a</td>\n",
       "      <td>NaN</td>\n",
       "    </tr>\n",
       "  </tbody>\n",
       "</table>\n",
       "<p>5 rows × 42 columns</p>\n",
       "</div>"
      ],
      "text/plain": [
       "  gender genderLooking   age          name  counts_details  counts_pictures  \\\n",
       "0      F             M  25.0         daeni            1.00              4.0   \n",
       "1      F             M  22.0   italiana 92            0.85              5.0   \n",
       "2      F             M  21.0       Lauraaa            0.00              4.0   \n",
       "3      F          none  20.0    Qqkwmdowlo            0.12              3.0   \n",
       "4      F             M  21.0  schaessie {3            0.15             12.0   \n",
       "\n",
       "   counts_profileVisits  counts_kisses  counts_fans  counts_g  ...  \\\n",
       "0                8279.0          239.0          0.0       3.0  ...   \n",
       "1                 663.0           13.0          0.0       0.0  ...   \n",
       "2                1369.0           88.0          0.0       2.0  ...   \n",
       "3               22187.0         1015.0          2.0       3.0  ...   \n",
       "4               35262.0         1413.0          9.0      12.0  ...   \n",
       "\n",
       "  shareProfileEnabled        lastOnlineDate lastOnlineTime birthd crypt  \\\n",
       "0                 1.0  2015-04-25T20:43:26Z   1.429995e+09    0.0   NaN   \n",
       "1                 1.0  2015-04-26T09:19:35Z   1.430040e+09    0.0   NaN   \n",
       "2                 1.0  2015-04-06T14:24:07Z   1.428330e+09    0.0   NaN   \n",
       "3                 1.0  2015-04-07T11:21:01Z   1.428406e+09    0.0   NaN   \n",
       "4                 1.0  2015-04-06T14:25:20Z   1.428330e+09    0.0   NaN   \n",
       "\n",
       "                                 freetext  \\\n",
       "0  Nur tote Fisch schwimmen mit dem Strom   \n",
       "1                                     NaN   \n",
       "2                                     NaN   \n",
       "3                                     NaN   \n",
       "4                                     NaN   \n",
       "\n",
       "                                    whazzup                 pictureId  \\\n",
       "0   Nur tote fische schwimmen mit dem strom  4e3842f79b70e7ea57000064   \n",
       "1                             Primaveraaa<3  4e3d34bf5d2bce7b160006a3   \n",
       "2                                       NaN  4ec96c090dc82cb25d00000a   \n",
       "3  Je pense donc je suis.  Instagram quedev  4eef8b81ebf2c8f64000000c   \n",
       "4                     Instagram: JESSSIESCH  4ef3cc5aa9d0b3d07d000017   \n",
       "\n",
       "                     userId  isSystemProfile  \n",
       "0  55303fc3160ba0eb728b4575              NaN  \n",
       "1  552e7b61c66da10d1e8b4c82              NaN  \n",
       "2  54a584ecc56da128638b4674              NaN  \n",
       "3  54c92738076ea1b5338b4735              NaN  \n",
       "4  54e1a6f6c76da135748b4a3a              NaN  \n",
       "\n",
       "[5 rows x 42 columns]"
      ]
     },
     "execution_count": 3,
     "metadata": {},
     "output_type": "execute_result"
    }
   ],
   "source": [
    "df.head()"
   ]
  },
  {
   "cell_type": "code",
   "execution_count": null,
   "metadata": {},
   "outputs": [],
   "source": []
  },
  {
   "cell_type": "markdown",
   "metadata": {},
   "source": [
    "#### 1.3.3 Data dictionary"
   ]
  },
  {
   "cell_type": "markdown",
   "metadata": {},
   "source": [
    "#### 1.3.4 Defintion Key variables"
   ]
  },
  {
   "cell_type": "markdown",
   "metadata": {},
   "source": [
    "##### Linear Regression"
   ]
  },
  {
   "cell_type": "markdown",
   "metadata": {},
   "source": [
    "##### Logistic Regression"
   ]
  },
  {
   "cell_type": "markdown",
   "metadata": {},
   "source": [
    "#### 1.3.5 Data corrections"
   ]
  },
  {
   "cell_type": "markdown",
   "metadata": {},
   "source": [
    "#### 1.3.6 Exploratory data analysis"
   ]
  },
  {
   "cell_type": "markdown",
   "metadata": {},
   "source": []
  },
  {
   "cell_type": "markdown",
   "metadata": {},
   "source": [
    "## Methodology"
   ]
  },
  {
   "cell_type": "markdown",
   "metadata": {},
   "source": [
    "> REMOVE THE FOLLOWING TEXT\n",
    "\n",
    "This section includes a brief description of your modeling process.\n",
    "\n",
    "Explain the reasoning for the type of model you're fitting, predictor variables considered for the model.\n",
    "\n",
    "Additionally, show how you arrived at the final model by describing the model selection process, variable transformations (if needed), assessment of conditions and diagnostics, and any other relevant considerations that were part of the model fitting process."
   ]
  },
  {
   "cell_type": "markdown",
   "metadata": {},
   "source": [
    "## Results"
   ]
  },
  {
   "cell_type": "markdown",
   "metadata": {},
   "source": [
    "> REMOVE THE FOLLOWING TEXT\n",
    "\n",
    "This is where you will output the final model with any relevant model fit statistics.\n",
    "\n",
    "Describe the key results from the model.\n",
    "The goal is not to interpret every single variable in the model but rather to show that you are proficient in using the model output to address the research questions, using the interpretations to support your conclusions.\n",
    "\n",
    "Focus on the variables that help you answer the research question and that provide relevant context for the reader.\n"
   ]
  },
  {
   "cell_type": "code",
   "execution_count": null,
   "metadata": {},
   "outputs": [],
   "source": []
  },
  {
   "cell_type": "markdown",
   "metadata": {},
   "source": [
    "## Discussion + Conclusion\n"
   ]
  },
  {
   "cell_type": "markdown",
   "metadata": {},
   "source": [
    "> REMOVE THE FOLLOWING TEXT\n",
    "\n",
    "In this section you'll include a summary of what you have learned about your research question along with statistical arguments supporting your conclusions.\n",
    "In addition, discuss the limitations of your analysis and provide suggestions on ways the analysis could be improved.\n",
    "Any potential issues pertaining to the reliability and validity of your data and appropriateness of the statistical analysis should also be discussed here.\n",
    "Lastly, this section will include ideas for future work."
   ]
  },
  {
   "cell_type": "markdown",
   "metadata": {},
   "source": []
  }
 ],
 "metadata": {
  "kernelspec": {
   "display_name": "Python 3 (ipykernel)",
   "language": "python",
   "name": "python3"
  },
  "language_info": {
   "codemirror_mode": {
    "name": "ipython",
    "version": 3
   },
   "file_extension": ".py",
   "mimetype": "text/x-python",
   "name": "python",
   "nbconvert_exporter": "python",
   "pygments_lexer": "ipython3",
   "version": "3.11.6"
  },
  "vscode": {
   "interpreter": {
    "hash": "31f2aee4e71d21fbe5cf8b01ff0e069b9275f58929596ceb00d14d90e3e16cd6"
   }
  }
 },
 "nbformat": 4,
 "nbformat_minor": 4
}
