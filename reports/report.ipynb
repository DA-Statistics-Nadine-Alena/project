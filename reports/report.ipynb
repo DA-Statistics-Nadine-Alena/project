{
 "cells": [
  {
   "cell_type": "markdown",
   "metadata": {},
   "source": [
    "# Report"
   ]
  },
  {
   "cell_type": "markdown",
   "metadata": {},
   "source": [
    "## Setup"
   ]
  },
  {
   "cell_type": "code",
   "execution_count": 14,
   "metadata": {},
   "outputs": [],
   "source": [
    "import numpy as np\n",
    "import pandas as pd\n",
    "import altair as alt\n",
    "\n",
    "from sklearn.model_selection import train_test_split\n",
    "from sklearn.model_selection import cross_val_score\n",
    "from sklearn.linear_model import LinearRegression\n",
    "from sklearn.linear_model import LogisticRegression\n",
    "from sklearn.metrics import r2_score\n",
    "from sklearn.metrics import mean_squared_error\n",
    "from sklearn.metrics import mean_absolute_error\n",
    "from sklearn.model_selection import cross_val_score\n",
    "from sklearn.metrics import ConfusionMatrixDisplay\n",
    "from sklearn.metrics import classification_report\n",
    "from sklearn.metrics import RocCurveDisplay\n",
    "from sklearn.metrics import roc_auc_score\n",
    "from sklearn.feature_selection import RFE\n",
    "from joblib import dump, load"
   ]
  },
  {
   "cell_type": "markdown",
   "metadata": {},
   "source": [
    "## Introduction and data"
   ]
  },
  {
   "cell_type": "markdown",
   "metadata": {},
   "source": [
    "> REMOVE THE FOLLOWING TEXT\n",
    "\n",
    "This section includes an introduction to the project motivation, data, and research question.\n",
    "Describe the data and definitions of key variables.\n",
    "\n",
    "It should also include some exploratory data analysis.\n",
    "\n",
    "All of the EDA won't fit in the paper, so focus on the EDA for the response variable and a few other interesting variables and relationships."
   ]
  },
  {
   "cell_type": "markdown",
   "metadata": {},
   "source": [
    "### 1.1 Introduction and motivation"
   ]
  },
  {
   "cell_type": "markdown",
   "metadata": {},
   "source": [
    "In einer Welt, in der digitale Interaktionen zunehmend alle Bereiche des Lebens prägen, hat sich der Weg der zwischenmenschlichen Beziehungen grundlegend gewandelt. In Zeiten, in denen für Einkäufe, Vertragsangelegenheiten oder das Kennenlernen neuer Leute nur ein Klick auf das Smartphone-Display erforderlich ist, scheint das Verlassen des Hauses immer weniger notwendig. Insbesondere die Nutzung von Dating-Plattformen wie Lovoo, Tinder oder Bumble hat das Finden potenzieller Partner revolutioniert und bietet Möglichkeiten, die weit über traditionelle Methoden hinausgehen. Laut einer repräsentativen Umfrage lernen sich bereits 24% der Paare im Internet bzw. über Dating-Apps kennen, was diese Methode, zusammen mit dem Kennenlernen über Freunde, zur beliebtesten Art und Weise macht, im Jahr 2023 einen Partner zu finden (Quelle: Statista).\n",
    "\n",
    "Doch mit der Zunahme der Nutzung von Dating-Plattformen ergibt sich eine neue Herausforderung: Wie kann ein Profil aus der Masse hervorstechen, positive Reaktionen generieren und anderen Nutzern auffallen? In dieser Ära des digitalen Wandels stehen Nutzer von Plattformen wie Lovoo vor der Aufgabe, ihre Persönlichkeit und Anziehungskraft in einem begrenzten virtuellen Raum zu vermitteln. Die Gestaltung des Nutzerprofils, das nur einen begrenzten Informationsumfang zulässt, wird zur einzigen Möglichkeit, die Aufmerksamkeit anderer zu erregen.\n",
    "\n",
    "Dieses Projekt zielt darauf ab, die Schlüsselelemente eines erfolgreichen Lovoo-Profils zu identifizieren. Es wird untersucht, welche Profilmerkmale genügend Mehrwert bieten, um andere Nutzer zur Interaktion zu bewegen. Dies ist nicht nur für Einzelpersonen relevant, die aktiv nach romantischen Beziehungen suchen, sondern wirft auch tiefgreifende Fragen über menschliches Verhalten, Vorlieben und Kommunikationsmuster in einer zunehmend digitalisierten Gesellschaft auf. Durch die Analyse von Nutzerdaten auf dieser Plattformen bietet dieses Projekt Einblicke in die Dynamik des digitalen Datings und trägt dazu bei, ein umfassenderes Verständnis der Faktoren zu entwickeln, die in der Welt des Online-Datings Erfolg definieren.\n",
    "\n"
   ]
  },
  {
   "cell_type": "markdown",
   "metadata": {},
   "source": [
    "### 1.2 Research question"
   ]
  },
  {
   "cell_type": "markdown",
   "metadata": {},
   "source": [
    "Durch die Analyse weiblicher Nutzerprofile aus dem Jahr 2015 soll anhand linearer Modelle ermittelt werden, welche Voraussetzungen ein Profil erfüllen muss, um seine Chancen auf virtuelle Interaktion zu erhöhen. Diese Erkenntnisse ermöglichen nicht nur eine personalisierte Optimierung von Profilen für individuellen Erfolg, sondern eröffnen auch Einblicke in soziokulturelle Dynamiken und digitale Kommunikationsstrategien.\n",
    "\n",
    "Als Datengrundlage dienen die Informationen auf den Accounts verschiedener weiblicher Nutzer, die während der Interaktion mit männlichen Dummy-Profilen ausgelesen wurden. Zu den für diese Analyse relevanten Daten zählen vor allem die Informationsdichte des Profils, die Anzahl der hochgeladenen Bilder, der Profilbesuche und generierten Kisses, sowie das Alter der Person."
   ]
  },
  {
   "cell_type": "markdown",
   "metadata": {},
   "source": [
    "Anhand der vorliegenden Angaben je Profil soll mithilfe einer linearen Regression im folgenden erforscht werden, welche Profileigenschaften vorliegen sollten, um möglichst viele Profilbesuche zu generieren, was die Wahrscheinlichkeit einer Interaktion mit anderen Nutzern erhöht. Ziel ist es, die Anzahl der Profilbesuche anhand der vorliegenden Nutzerdaten vorherzusagen und damit den wahrscheinlichen Erfolg eines Profils zu bestimmen.\n",
    "\n",
    "Zudem wird mithilfe der logistischen Regression untersucht, wie ein Account beschaffen sein muss, um Fans zu generieren, also andere User dazu zu bewegen, dem Profil zu folgen. Ziel ist es, anhand der Nutzerdaten vorherzusagen, ob ein Profil das Potenzial hat, mindestens einen Fan zu generieren oder nicht."
   ]
  },
  {
   "cell_type": "markdown",
   "metadata": {},
   "source": [
    "### 1.3 Data"
   ]
  },
  {
   "cell_type": "markdown",
   "metadata": {},
   "source": [
    "#### 1.3.1 Data origin"
   ]
  },
  {
   "cell_type": "markdown",
   "metadata": {},
   "source": [
    "Die Erhebung der Daten für den Datensatz erfolgte im Frühjahr 2015 durch gezielte Erfassung von Nutzerprofilinformationen auf Lovoo. Für diese Zwecke wurden eigens vom Urheber entwickelte Tools eingesetzt, die es ermöglichten, während der Nutzung der Plattform, des Aufrufens von Profilen und Stellens von Suchanfragen präzise Daten zu sammeln.\n",
    "\n",
    "Um die Datenerhebung durchzuführen, wurden zwei Profile erstellt, die den Empfehlungen des Lovoo-Algorithmus folgten. Diese Profile waren auf die Person und die Interessen des Urhebers ausgerichtet und signalisierten Offenheit für Freundschaften, Chats und Dates. Da der Urheber männlich und ausschließlich auf der Suche nach Frauen ist, sind diese Faktoren bei Erstellung der Profile und der Auswahl potenzieller Matches durch den Algorithmus berücksichtigt. Folglich besteht der Datensatz ausschließlich aus weiblichen Nutzerprofilen. Um auch Daten für andere Geschlechter oder Altersgruppen zu erfassen, müsste eine separate Datenerhebung mit entsprechenden Profilen erfolgen.\n",
    "\n",
    "Interessanterweise zeigte sich, dass der Empfehlungsalgorithmus von Lovoo häufig dieselben Nutzerprofile ausgab. Dies lässt darauf schließen, dass der Algorithmus wahrscheinlich stark auf Einstellungen wie den Standort angewiesen war, um Nutzer in der Nähe zu empfehlen. Möglicherweise spielten auch Cookies eine Rolle. Diese Faktoren führten dazu, dass die Anzahl der unterschiedlichen Nutzerprofile, die in den Datensatz aufgenommen wurden, begrenzt war."
   ]
  },
  {
   "cell_type": "markdown",
   "metadata": {},
   "source": [
    "#### 1.3.2 Data structure"
   ]
  },
  {
   "cell_type": "code",
   "execution_count": 17,
   "metadata": {},
   "outputs": [],
   "source": [
    "URL = 'https://raw.githubusercontent.com/DA-Statistics-Nadine-Alena/project/main/references/LOVOO_Daten.csv'\n",
    "df = pd.read_csv(URL)"
   ]
  },
  {
   "cell_type": "code",
   "execution_count": 18,
   "metadata": {
    "scrolled": true
   },
   "outputs": [
    {
     "data": {
      "text/html": [
       "<div>\n",
       "<style scoped>\n",
       "    .dataframe tbody tr th:only-of-type {\n",
       "        vertical-align: middle;\n",
       "    }\n",
       "\n",
       "    .dataframe tbody tr th {\n",
       "        vertical-align: top;\n",
       "    }\n",
       "\n",
       "    .dataframe thead th {\n",
       "        text-align: right;\n",
       "    }\n",
       "</style>\n",
       "<table border=\"1\" class=\"dataframe\">\n",
       "  <thead>\n",
       "    <tr style=\"text-align: right;\">\n",
       "      <th></th>\n",
       "      <th>gender</th>\n",
       "      <th>genderLooking</th>\n",
       "      <th>age</th>\n",
       "      <th>name</th>\n",
       "      <th>counts_details</th>\n",
       "      <th>counts_pictures</th>\n",
       "      <th>counts_profileVisits</th>\n",
       "      <th>counts_kisses</th>\n",
       "      <th>counts_fans</th>\n",
       "      <th>counts_g</th>\n",
       "      <th>...</th>\n",
       "      <th>shareProfileEnabled</th>\n",
       "      <th>lastOnlineDate</th>\n",
       "      <th>lastOnlineTime</th>\n",
       "      <th>birthd</th>\n",
       "      <th>crypt</th>\n",
       "      <th>freetext</th>\n",
       "      <th>whazzup</th>\n",
       "      <th>pictureId</th>\n",
       "      <th>userId</th>\n",
       "      <th>isSystemProfile</th>\n",
       "    </tr>\n",
       "  </thead>\n",
       "  <tbody>\n",
       "    <tr>\n",
       "      <th>0</th>\n",
       "      <td>F</td>\n",
       "      <td>M</td>\n",
       "      <td>25.0</td>\n",
       "      <td>daeni</td>\n",
       "      <td>1.00</td>\n",
       "      <td>4.0</td>\n",
       "      <td>8279.0</td>\n",
       "      <td>239.0</td>\n",
       "      <td>0.0</td>\n",
       "      <td>3.0</td>\n",
       "      <td>...</td>\n",
       "      <td>1.0</td>\n",
       "      <td>2015-04-25T20:43:26Z</td>\n",
       "      <td>1.429995e+09</td>\n",
       "      <td>0.0</td>\n",
       "      <td>NaN</td>\n",
       "      <td>Nur tote Fisch schwimmen mit dem Strom</td>\n",
       "      <td>Nur tote fische schwimmen mit dem strom</td>\n",
       "      <td>4e3842f79b70e7ea57000064</td>\n",
       "      <td>55303fc3160ba0eb728b4575</td>\n",
       "      <td>NaN</td>\n",
       "    </tr>\n",
       "    <tr>\n",
       "      <th>1</th>\n",
       "      <td>F</td>\n",
       "      <td>M</td>\n",
       "      <td>22.0</td>\n",
       "      <td>italiana 92</td>\n",
       "      <td>0.85</td>\n",
       "      <td>5.0</td>\n",
       "      <td>663.0</td>\n",
       "      <td>13.0</td>\n",
       "      <td>0.0</td>\n",
       "      <td>0.0</td>\n",
       "      <td>...</td>\n",
       "      <td>1.0</td>\n",
       "      <td>2015-04-26T09:19:35Z</td>\n",
       "      <td>1.430040e+09</td>\n",
       "      <td>0.0</td>\n",
       "      <td>NaN</td>\n",
       "      <td>NaN</td>\n",
       "      <td>Primaveraaa&lt;3</td>\n",
       "      <td>4e3d34bf5d2bce7b160006a3</td>\n",
       "      <td>552e7b61c66da10d1e8b4c82</td>\n",
       "      <td>NaN</td>\n",
       "    </tr>\n",
       "    <tr>\n",
       "      <th>2</th>\n",
       "      <td>F</td>\n",
       "      <td>M</td>\n",
       "      <td>21.0</td>\n",
       "      <td>Lauraaa</td>\n",
       "      <td>0.00</td>\n",
       "      <td>4.0</td>\n",
       "      <td>1369.0</td>\n",
       "      <td>88.0</td>\n",
       "      <td>0.0</td>\n",
       "      <td>2.0</td>\n",
       "      <td>...</td>\n",
       "      <td>1.0</td>\n",
       "      <td>2015-04-06T14:24:07Z</td>\n",
       "      <td>1.428330e+09</td>\n",
       "      <td>0.0</td>\n",
       "      <td>NaN</td>\n",
       "      <td>NaN</td>\n",
       "      <td>NaN</td>\n",
       "      <td>4ec96c090dc82cb25d00000a</td>\n",
       "      <td>54a584ecc56da128638b4674</td>\n",
       "      <td>NaN</td>\n",
       "    </tr>\n",
       "    <tr>\n",
       "      <th>3</th>\n",
       "      <td>F</td>\n",
       "      <td>none</td>\n",
       "      <td>20.0</td>\n",
       "      <td>Qqkwmdowlo</td>\n",
       "      <td>0.12</td>\n",
       "      <td>3.0</td>\n",
       "      <td>22187.0</td>\n",
       "      <td>1015.0</td>\n",
       "      <td>2.0</td>\n",
       "      <td>3.0</td>\n",
       "      <td>...</td>\n",
       "      <td>1.0</td>\n",
       "      <td>2015-04-07T11:21:01Z</td>\n",
       "      <td>1.428406e+09</td>\n",
       "      <td>0.0</td>\n",
       "      <td>NaN</td>\n",
       "      <td>NaN</td>\n",
       "      <td>Je pense donc je suis.  Instagram quedev</td>\n",
       "      <td>4eef8b81ebf2c8f64000000c</td>\n",
       "      <td>54c92738076ea1b5338b4735</td>\n",
       "      <td>NaN</td>\n",
       "    </tr>\n",
       "    <tr>\n",
       "      <th>4</th>\n",
       "      <td>F</td>\n",
       "      <td>M</td>\n",
       "      <td>21.0</td>\n",
       "      <td>schaessie {3</td>\n",
       "      <td>0.15</td>\n",
       "      <td>12.0</td>\n",
       "      <td>35262.0</td>\n",
       "      <td>1413.0</td>\n",
       "      <td>9.0</td>\n",
       "      <td>12.0</td>\n",
       "      <td>...</td>\n",
       "      <td>1.0</td>\n",
       "      <td>2015-04-06T14:25:20Z</td>\n",
       "      <td>1.428330e+09</td>\n",
       "      <td>0.0</td>\n",
       "      <td>NaN</td>\n",
       "      <td>NaN</td>\n",
       "      <td>Instagram: JESSSIESCH</td>\n",
       "      <td>4ef3cc5aa9d0b3d07d000017</td>\n",
       "      <td>54e1a6f6c76da135748b4a3a</td>\n",
       "      <td>NaN</td>\n",
       "    </tr>\n",
       "  </tbody>\n",
       "</table>\n",
       "<p>5 rows × 42 columns</p>\n",
       "</div>"
      ],
      "text/plain": [
       "  gender genderLooking   age          name  counts_details  counts_pictures  \\\n",
       "0      F             M  25.0         daeni            1.00              4.0   \n",
       "1      F             M  22.0   italiana 92            0.85              5.0   \n",
       "2      F             M  21.0       Lauraaa            0.00              4.0   \n",
       "3      F          none  20.0    Qqkwmdowlo            0.12              3.0   \n",
       "4      F             M  21.0  schaessie {3            0.15             12.0   \n",
       "\n",
       "   counts_profileVisits  counts_kisses  counts_fans  counts_g  ...  \\\n",
       "0                8279.0          239.0          0.0       3.0  ...   \n",
       "1                 663.0           13.0          0.0       0.0  ...   \n",
       "2                1369.0           88.0          0.0       2.0  ...   \n",
       "3               22187.0         1015.0          2.0       3.0  ...   \n",
       "4               35262.0         1413.0          9.0      12.0  ...   \n",
       "\n",
       "  shareProfileEnabled        lastOnlineDate lastOnlineTime birthd crypt  \\\n",
       "0                 1.0  2015-04-25T20:43:26Z   1.429995e+09    0.0   NaN   \n",
       "1                 1.0  2015-04-26T09:19:35Z   1.430040e+09    0.0   NaN   \n",
       "2                 1.0  2015-04-06T14:24:07Z   1.428330e+09    0.0   NaN   \n",
       "3                 1.0  2015-04-07T11:21:01Z   1.428406e+09    0.0   NaN   \n",
       "4                 1.0  2015-04-06T14:25:20Z   1.428330e+09    0.0   NaN   \n",
       "\n",
       "                                 freetext  \\\n",
       "0  Nur tote Fisch schwimmen mit dem Strom   \n",
       "1                                     NaN   \n",
       "2                                     NaN   \n",
       "3                                     NaN   \n",
       "4                                     NaN   \n",
       "\n",
       "                                    whazzup                 pictureId  \\\n",
       "0   Nur tote fische schwimmen mit dem strom  4e3842f79b70e7ea57000064   \n",
       "1                             Primaveraaa<3  4e3d34bf5d2bce7b160006a3   \n",
       "2                                       NaN  4ec96c090dc82cb25d00000a   \n",
       "3  Je pense donc je suis.  Instagram quedev  4eef8b81ebf2c8f64000000c   \n",
       "4                     Instagram: JESSSIESCH  4ef3cc5aa9d0b3d07d000017   \n",
       "\n",
       "                     userId  isSystemProfile  \n",
       "0  55303fc3160ba0eb728b4575              NaN  \n",
       "1  552e7b61c66da10d1e8b4c82              NaN  \n",
       "2  54a584ecc56da128638b4674              NaN  \n",
       "3  54c92738076ea1b5338b4735              NaN  \n",
       "4  54e1a6f6c76da135748b4a3a              NaN  \n",
       "\n",
       "[5 rows x 42 columns]"
      ]
     },
     "execution_count": 18,
     "metadata": {},
     "output_type": "execute_result"
    }
   ],
   "source": [
    "df.head()"
   ]
  },
  {
   "cell_type": "code",
   "execution_count": 19,
   "metadata": {},
   "outputs": [
    {
     "name": "stdout",
     "output_type": "stream",
     "text": [
      "<class 'pandas.core.frame.DataFrame'>\n",
      "RangeIndex: 3855 entries, 0 to 3854\n",
      "Data columns (total 42 columns):\n",
      " #   Column                  Non-Null Count  Dtype  \n",
      "---  ------                  --------------  -----  \n",
      " 0   gender                  3855 non-null   object \n",
      " 1   genderLooking           3428 non-null   object \n",
      " 2   age                     3428 non-null   float64\n",
      " 3   name                    3428 non-null   object \n",
      " 4   counts_details          3426 non-null   float64\n",
      " 5   counts_pictures         3426 non-null   float64\n",
      " 6   counts_profileVisits    3426 non-null   float64\n",
      " 7   counts_kisses           3426 non-null   float64\n",
      " 8   counts_fans             3426 non-null   float64\n",
      " 9   counts_g                3426 non-null   float64\n",
      " 10  flirtInterests_chat     3426 non-null   object \n",
      " 11  flirtInterests_friends  3426 non-null   object \n",
      " 12  flirtInterests_date     3426 non-null   object \n",
      " 13  country                 3426 non-null   object \n",
      " 14  city                    3157 non-null   object \n",
      " 15  location                3418 non-null   object \n",
      " 16  distance                3406 non-null   float64\n",
      " 17  isFlirtstar             3426 non-null   float64\n",
      " 18  isHighlighted           3426 non-null   float64\n",
      " 19  isInfluencer            3426 non-null   float64\n",
      " 20  isMobile                3426 non-null   float64\n",
      " 21  isNew                   3426 non-null   float64\n",
      " 22  isOnline                3426 non-null   float64\n",
      " 23  isVip                   3426 non-null   float64\n",
      " 24  lang_count              3426 non-null   float64\n",
      " 25  lang_fr                 3426 non-null   object \n",
      " 26  lang_en                 3426 non-null   object \n",
      " 27  lang_de                 3426 non-null   object \n",
      " 28  lang_it                 3426 non-null   object \n",
      " 29  lang_es                 3426 non-null   object \n",
      " 30  lang_pt                 3426 non-null   object \n",
      " 31  verified                3426 non-null   float64\n",
      " 32  shareProfileEnabled     3426 non-null   float64\n",
      " 33  lastOnlineDate          3425 non-null   object \n",
      " 34  lastOnlineTime          3425 non-null   float64\n",
      " 35  birthd                  3426 non-null   float64\n",
      " 36  crypt                   20 non-null     float64\n",
      " 37  freetext                69 non-null     object \n",
      " 38  whazzup                 1848 non-null   object \n",
      " 39  pictureId               3411 non-null   object \n",
      " 40  userId                  3335 non-null   object \n",
      " 41  isSystemProfile         2 non-null      float64\n",
      "dtypes: float64(22), object(20)\n",
      "memory usage: 1.2+ MB\n"
     ]
    }
   ],
   "source": [
    "df.info()"
   ]
  },
  {
   "cell_type": "markdown",
   "metadata": {},
   "source": [
    "#### 1.3.3 Data corrections"
   ]
  },
  {
   "cell_type": "markdown",
   "metadata": {},
   "source": [
    "Um den vorliegenden Datensatz für die lineare sowie logitsische Regression verwenden zu können, mussten Korrekturen an dem Datensatz vorgenommen werden.\n",
    "\n",
    "**Entfernung von NaN-Werten**\n",
    "Der Datensatz enthält einige Profildaten mit NaN-Werten. Zur besseren Modellierung wurden die Zeilen mit NaN-Werte aus dem Datensatz entfernt, da im linearen Regressionsmodellen keine Leerzellen bzw. NaN Werte akzeptiert werden. Die relevanten numerischen Spalten werden hierfür bereinigt, indem die Zeilen mit NaN Werten in den entsprechenden Spalten herausgefiltert udn entfernt werden.\n",
    "\n",
    "**Hinzufügen der Variable \"fans\"**\n",
    "Die Variable \"counts_fans\" wird in eine kategoriale Variable umgewandelt, sodass diese für die logistische Regression angewendet werden kann. Dem DataFrame wird eine neue Spalte hinzugefügt, die Angibt, ob das in der Zeile repräsentierte Profil über Fans verfügt oder nicht. Grundlage dabei ist die Spalte \"counts_fans\", ist die dort eingetragene Zahl größer als Eins, so wird das Profil in der neuen Spalte \"fans\" mit einer 1 gekennzeichnet. Verfügt das Profil laut \"counts_fans\" über keine Fans, erhält es in der Spalte \"fans\" eine 0.\n",
    "\n",
    "**Korrektur von fehlerhaften Zeilen**\n",
    "Bei genauer Betrachtung der Ausprägungen in der Spalte Gender, so fällt auf, dass die zugrunde liegende csv-Tablle in einigen Zeilen fehlerhaft war, weshalb dort in der entsprechenden Spalte keine der erwarteten Ausprägungen F (= Frau), M (= Mann) und none (= keine Angabe) vermerkt ist. Die fehlerhaft Datenstruktur erstreckt sich über die ganze Zeile der betreffenden Profile, weshalb sie identifiziert und entfernt werden müssen. Hierzu werden die obengenannten Ausprägungen als accepted Values festgelegt, um die übrigen Zeilen mit anderen Werten herauszufiltern.\n",
    "\n",
    "**Entfernung von nicht verwendeten Spalten**\n",
    "Der Datensatz enthält viele Spalten die für die nachfolgende Modellierung irrelevant sind. Aus diesem Grund werden diese Spalten aus dem Datensatz entfernt.\n",
    "\n",
    "Der bereinigte Datensatz wird als csv-Datei abgespeichert und kann so für das weitere Vorgehen importiert werden."
   ]
  },
  {
   "cell_type": "code",
   "execution_count": 8,
   "metadata": {},
   "outputs": [],
   "source": [
    "URLc = 'https://raw.githubusercontent.com/DA-Statistics-Nadine-Alena/project/main/references/LOVOO_Daten.csv'\n",
    "df = pd.read_csv(URLc)"
   ]
  },
  {
   "cell_type": "markdown",
   "metadata": {},
   "source": [
    "#### 1.3.4 Data dictionary"
   ]
  },
  {
   "cell_type": "code",
   "execution_count": 9,
   "metadata": {},
   "outputs": [
    {
     "data": {
      "text/html": [
       "<div>\n",
       "<style scoped>\n",
       "    .dataframe tbody tr th:only-of-type {\n",
       "        vertical-align: middle;\n",
       "    }\n",
       "\n",
       "    .dataframe tbody tr th {\n",
       "        vertical-align: top;\n",
       "    }\n",
       "\n",
       "    .dataframe thead th {\n",
       "        text-align: right;\n",
       "    }\n",
       "</style>\n",
       "<table border=\"1\" class=\"dataframe\">\n",
       "  <thead>\n",
       "    <tr style=\"text-align: right;\">\n",
       "      <th></th>\n",
       "      <th>Name</th>\n",
       "      <th>Description</th>\n",
       "      <th>Role</th>\n",
       "      <th>Type</th>\n",
       "      <th>Format</th>\n",
       "    </tr>\n",
       "  </thead>\n",
       "  <tbody>\n",
       "    <tr>\n",
       "      <th>0</th>\n",
       "      <td>counts_profileVisits</td>\n",
       "      <td>Anzahl der Besuche anderer Nutzer auf dem betr...</td>\n",
       "      <td>Response</td>\n",
       "      <td>numerisch</td>\n",
       "      <td>float</td>\n",
       "    </tr>\n",
       "    <tr>\n",
       "      <th>1</th>\n",
       "      <td>counts_details</td>\n",
       "      <td>Anteil der auf dem Profil gefüllen Accountdetails</td>\n",
       "      <td>Predictor</td>\n",
       "      <td>numerisch</td>\n",
       "      <td>float</td>\n",
       "    </tr>\n",
       "    <tr>\n",
       "      <th>2</th>\n",
       "      <td>age</td>\n",
       "      <td>Alter des Profilinhabers</td>\n",
       "      <td>Predictor</td>\n",
       "      <td>numerisch</td>\n",
       "      <td>float</td>\n",
       "    </tr>\n",
       "    <tr>\n",
       "      <th>3</th>\n",
       "      <td>counts_pictures</td>\n",
       "      <td>Anzahl der auf dem Profil hochgeladenen Bilder</td>\n",
       "      <td>Predictor</td>\n",
       "      <td>numerisch</td>\n",
       "      <td>float</td>\n",
       "    </tr>\n",
       "    <tr>\n",
       "      <th>4</th>\n",
       "      <td>counts_kisses</td>\n",
       "      <td>Anzahl der für das Profil vergebenen Kisses (ä...</td>\n",
       "      <td>Predictor</td>\n",
       "      <td>numerisch</td>\n",
       "      <td>float</td>\n",
       "    </tr>\n",
       "    <tr>\n",
       "      <th>5</th>\n",
       "      <td>counts_fans</td>\n",
       "      <td>Anzahl der Fans des Profils, ähnlich Follower ...</td>\n",
       "      <td>Predictor</td>\n",
       "      <td>numerisch</td>\n",
       "      <td>float</td>\n",
       "    </tr>\n",
       "    <tr>\n",
       "      <th>6</th>\n",
       "      <td>fans</td>\n",
       "      <td>Binerische Angabe, ob ein Profil über Fans ver...</td>\n",
       "      <td>Response</td>\n",
       "      <td>nominal</td>\n",
       "      <td>category</td>\n",
       "    </tr>\n",
       "  </tbody>\n",
       "</table>\n",
       "</div>"
      ],
      "text/plain": [
       "                   Name                                        Description  \\\n",
       "0  counts_profileVisits  Anzahl der Besuche anderer Nutzer auf dem betr...   \n",
       "1        counts_details  Anteil der auf dem Profil gefüllen Accountdetails   \n",
       "2                   age                           Alter des Profilinhabers   \n",
       "3       counts_pictures     Anzahl der auf dem Profil hochgeladenen Bilder   \n",
       "4         counts_kisses  Anzahl der für das Profil vergebenen Kisses (ä...   \n",
       "5           counts_fans  Anzahl der Fans des Profils, ähnlich Follower ...   \n",
       "6                  fans  Binerische Angabe, ob ein Profil über Fans ver...   \n",
       "\n",
       "        Role       Type    Format  \n",
       "0   Response  numerisch     float  \n",
       "1  Predictor  numerisch     float  \n",
       "2  Predictor  numerisch     float  \n",
       "3  Predictor  numerisch     float  \n",
       "4  Predictor  numerisch     float  \n",
       "5  Predictor  numerisch     float  \n",
       "6   Response    nominal  category  "
      ]
     },
     "execution_count": 9,
     "metadata": {},
     "output_type": "execute_result"
    }
   ],
   "source": [
    "data = {\n",
    "    'Name': ['counts_profileVisits', 'counts_details', 'age', 'counts_pictures', 'counts_kisses', 'counts_fans', 'fans'],\n",
    "    'Description': ['Anzahl der Besuche anderer Nutzer auf dem betrachteten Profil', 'Anteil der auf dem Profil gefüllen Accountdetails', 'Alter des Profilinhabers', 'Anzahl der auf dem Profil hochgeladenen Bilder', 'Anzahl der für das Profil vergebenen Kisses (ähnlich den Likes auf Instagram)', 'Anzahl der Fans des Profils, ähnlich Follower auf anderen Plattformen', 'Binerische Angabe, ob ein Profil über Fans verfügt oder nicht '],\n",
    "    'Role': ['Response', 'Predictor', 'Predictor', 'Predictor', 'Predictor', 'Predictor', 'Response'],\n",
    "    'Type': ['numerisch', 'numerisch', 'numerisch', 'numerisch', 'numerisch', 'numerisch', 'nominal'],\n",
    "    'Format': ['float', 'float', 'float', 'float', 'float','float', 'category']\n",
    "}\n",
    "\n",
    "\n",
    "data_dictionary = pd.DataFrame(data)\n",
    "data_dictionary"
   ]
  },
  {
   "cell_type": "markdown",
   "metadata": {},
   "source": [
    "#### 1.3.5 Defintion Key variables"
   ]
  },
  {
   "cell_type": "markdown",
   "metadata": {},
   "source": [
    "Der zugrundeliegende Datensatz ist sehr umfassend. Da nicht alle Variablen für die das Projekt relevant sind, werden im nachfolgenden nur die verwendeten Variablen näher erläutert."
   ]
  },
  {
   "cell_type": "markdown",
   "metadata": {},
   "source": [
    "age: In dieser Spalte wird das Alter des Profilinhabers angegeben. Das ermöglicht eine konkrete Suche nach Personen im gleichen Alter oder nach anderen präferierten Altersgruppen. Die Altersspanne im gewählten Datensatz bewegt sich zwischen 18 und 28.\n",
    "\n",
    "counts_details: Diese Spalte gibt an, wie viele Angaben auf dem Profil gemacht wurden. Die Werte spiegeln den prozentualen Anteil an gefüllten Profildetails wieder, wobei 1 (also 100%) bedeutet, dass alle möglichen Angaben auf dem Profil getätigt wurden und 0 (0%), dass auf dem Profil bisher noch keine Informationen geteilt wurden.\n",
    "\n",
    "counts_pictures: Diese Spalte gibt die Anzahl der Bilder an, die auf dem Account hochgeladen wurden. Mit hochgeladenen Bildern bekommt der Gegenüber eine Vorstellung vom Aussehen der potenziellen Matches und kann so auf sehr oberflächlicher Ebene mögliche Datingpartner selektieren.\n",
    "\n",
    "counts_profileVisits: Profile Visits auf der Dating-Plattform Lovoo bezeichnen die Anzahl der Besuche, die das eigene Benutzerprofil von anderen Nutzern erhalten hat. Wenn jemand das eigene Profil aufruft, wird dies als \"Profile Visit\" gezählt. Dies gibt dem Benutzer einen Einblick, wie viele andere Mitglieder Interesse an seinem Profil zeigen, indem sie es besuchen. Profile Visits können in Dating-Apps wie Lovoo dazu beitragen, die allgemeine Aktivität und Attraktivität des eigenen Profils zu bewerten.\n",
    "\n",
    "counts_kisses: \"Kisses\" sind Ausruck von Aufmerksamkeit auf der Plattform, die User verwenden können, um gegenüber anderen Nutzern ihr Interesse auszudrücken. Die virtuellen Küsse bieten die Möglichkeit, jemandem zu signalisieren, das Interesse an einem Kontaktaufbau besteht oder denjenigen auf das eigene Profil zu locken. In der Regel können Kisses gekauft oder durch bestimmte Aktionen auf der Plattform verdient werden.\n",
    "\n",
    "counts_fans: Fan auf Lovoo wird man, indem man das Profil eines anderen Nutzers markiert und diesem folgt. Ähnlich wie bei anderen Social Media Kanälen wie z.B. Instagram, wird man dann über neue Beiträge eines Profils auf dem laufenden Gehalten und verliert dieses nicht aus den Augen."
   ]
  },
  {
   "cell_type": "markdown",
   "metadata": {},
   "source": [
    "##### Linear Regression"
   ]
  },
  {
   "cell_type": "markdown",
   "metadata": {},
   "source": [
    "Die lineare Regression findet Anwendung um Merkmale eines Nutzerprofils auf Lovoo zu identifizieren, die Anzahl der Profilbesucher erhöht um somit die zu steigern mit anderen Nutzer der Plattform in Kontakt zu treten. Die **Responsevariable** ist \"count_profileVisits\"."
   ]
  },
  {
   "cell_type": "markdown",
   "metadata": {},
   "source": [
    "Mit Hilfe von EDA wurden die nachfolgenden Variablen als mögliche **Predictorvariablen** identifiziert.\n",
    "- counts_details\n",
    "- counts_pictures\n",
    "- counts_kisses\n",
    "- counts_fans"
   ]
  },
  {
   "cell_type": "markdown",
   "metadata": {},
   "source": [
    "Um die Daten im Modell weiterzuverwenden, werden im nächsten SChritt die Spalten ausgewählt, die für die Modellierung relevant sind. Diesen wird dann ihre entsprechende Rolle als Responsevariable (y_label) oder Predictor (feature) zugeordnet, und anschließend als X und y Variable definiert."
   ]
  },
  {
   "cell_type": "code",
   "execution_count": 11,
   "metadata": {},
   "outputs": [
    {
     "ename": "KeyError",
     "evalue": "\"['fans'] not found in axis\"",
     "output_type": "error",
     "traceback": [
      "\u001b[0;31m---------------------------------------------------------------------------\u001b[0m",
      "\u001b[0;31mKeyError\u001b[0m                                  Traceback (most recent call last)",
      "Cell \u001b[0;32mIn[11], line 3\u001b[0m\n\u001b[1;32m      1\u001b[0m y_label \u001b[38;5;241m=\u001b[39m \u001b[38;5;124m'\u001b[39m\u001b[38;5;124mcounts_profileVisits\u001b[39m\u001b[38;5;124m'\u001b[39m\n\u001b[0;32m----> 3\u001b[0m features \u001b[38;5;241m=\u001b[39m \u001b[43mdf\u001b[49m\u001b[38;5;241;43m.\u001b[39;49m\u001b[43mdrop\u001b[49m\u001b[43m(\u001b[49m\u001b[43mcolumns\u001b[49m\u001b[38;5;241;43m=\u001b[39;49m\u001b[43m[\u001b[49m\u001b[43my_label\u001b[49m\u001b[43m,\u001b[49m\u001b[38;5;124;43m'\u001b[39;49m\u001b[38;5;124;43mgender\u001b[39;49m\u001b[38;5;124;43m'\u001b[39;49m\u001b[43m,\u001b[49m\u001b[38;5;124;43m'\u001b[39;49m\u001b[38;5;124;43mgenderLooking\u001b[39;49m\u001b[38;5;124;43m'\u001b[39;49m\u001b[43m,\u001b[49m\u001b[43m \u001b[49m\u001b[38;5;124;43m'\u001b[39;49m\u001b[38;5;124;43mage\u001b[39;49m\u001b[38;5;124;43m'\u001b[39;49m\u001b[43m,\u001b[49m\u001b[38;5;124;43m'\u001b[39;49m\u001b[38;5;124;43mflirtInterests_chat\u001b[39;49m\u001b[38;5;124;43m'\u001b[39;49m\u001b[43m,\u001b[49m\u001b[38;5;124;43m'\u001b[39;49m\u001b[38;5;124;43mflirtInterests_friends\u001b[39;49m\u001b[38;5;124;43m'\u001b[39;49m\u001b[43m,\u001b[49m\u001b[38;5;124;43m'\u001b[39;49m\u001b[38;5;124;43mflirtInterests_date\u001b[39;49m\u001b[38;5;124;43m'\u001b[39;49m\u001b[43m,\u001b[49m\u001b[38;5;124;43m'\u001b[39;49m\u001b[38;5;124;43mcountry\u001b[39;49m\u001b[38;5;124;43m'\u001b[39;49m\u001b[43m,\u001b[49m\u001b[38;5;124;43m'\u001b[39;49m\u001b[38;5;124;43mcity\u001b[39;49m\u001b[38;5;124;43m'\u001b[39;49m\u001b[43m,\u001b[49m\u001b[38;5;124;43m'\u001b[39;49m\u001b[38;5;124;43mlocation\u001b[39;49m\u001b[38;5;124;43m'\u001b[39;49m\u001b[43m,\u001b[49m\u001b[38;5;124;43m'\u001b[39;49m\u001b[38;5;124;43mdistance\u001b[39;49m\u001b[38;5;124;43m'\u001b[39;49m\u001b[43m,\u001b[49m\u001b[38;5;124;43m'\u001b[39;49m\u001b[38;5;124;43misFlirtstar\u001b[39;49m\u001b[38;5;124;43m'\u001b[39;49m\u001b[43m,\u001b[49m\u001b[38;5;124;43m'\u001b[39;49m\u001b[38;5;124;43misHighlighted\u001b[39;49m\u001b[38;5;124;43m'\u001b[39;49m\u001b[43m,\u001b[49m\u001b[38;5;124;43m'\u001b[39;49m\u001b[38;5;124;43misInfluencer\u001b[39;49m\u001b[38;5;124;43m'\u001b[39;49m\u001b[43m,\u001b[49m\u001b[38;5;124;43m'\u001b[39;49m\u001b[38;5;124;43misMobile\u001b[39;49m\u001b[38;5;124;43m'\u001b[39;49m\u001b[43m,\u001b[49m\u001b[38;5;124;43m'\u001b[39;49m\u001b[38;5;124;43misNew\u001b[39;49m\u001b[38;5;124;43m'\u001b[39;49m\u001b[43m,\u001b[49m\u001b[38;5;124;43m'\u001b[39;49m\u001b[38;5;124;43misOnline\u001b[39;49m\u001b[38;5;124;43m'\u001b[39;49m\u001b[43m,\u001b[49m\u001b[38;5;124;43m'\u001b[39;49m\u001b[38;5;124;43misVip\u001b[39;49m\u001b[38;5;124;43m'\u001b[39;49m\u001b[43m,\u001b[49m\u001b[38;5;124;43m'\u001b[39;49m\u001b[38;5;124;43mlang_count\u001b[39;49m\u001b[38;5;124;43m'\u001b[39;49m\u001b[43m,\u001b[49m\u001b[38;5;124;43m'\u001b[39;49m\u001b[38;5;124;43mlang_fr\u001b[39;49m\u001b[38;5;124;43m'\u001b[39;49m\u001b[43m,\u001b[49m\u001b[38;5;124;43m'\u001b[39;49m\u001b[38;5;124;43mlang_en\u001b[39;49m\u001b[38;5;124;43m'\u001b[39;49m\u001b[43m,\u001b[49m\u001b[38;5;124;43m'\u001b[39;49m\u001b[38;5;124;43mlang_de\u001b[39;49m\u001b[38;5;124;43m'\u001b[39;49m\u001b[43m,\u001b[49m\u001b[38;5;124;43m'\u001b[39;49m\u001b[38;5;124;43mlang_it\u001b[39;49m\u001b[38;5;124;43m'\u001b[39;49m\u001b[43m,\u001b[49m\u001b[38;5;124;43m'\u001b[39;49m\u001b[38;5;124;43mlang_es\u001b[39;49m\u001b[38;5;124;43m'\u001b[39;49m\u001b[43m,\u001b[49m\u001b[38;5;124;43m'\u001b[39;49m\u001b[38;5;124;43mlang_pt\u001b[39;49m\u001b[38;5;124;43m'\u001b[39;49m\u001b[43m,\u001b[49m\u001b[38;5;124;43m'\u001b[39;49m\u001b[38;5;124;43mverified\u001b[39;49m\u001b[38;5;124;43m'\u001b[39;49m\u001b[43m,\u001b[49m\u001b[38;5;124;43m'\u001b[39;49m\u001b[38;5;124;43mshareProfileEnabled\u001b[39;49m\u001b[38;5;124;43m'\u001b[39;49m\u001b[43m,\u001b[49m\u001b[38;5;124;43m'\u001b[39;49m\u001b[38;5;124;43mlastOnlineDate\u001b[39;49m\u001b[38;5;124;43m'\u001b[39;49m\u001b[43m,\u001b[49m\u001b[38;5;124;43m'\u001b[39;49m\u001b[38;5;124;43mlastOnlineTime\u001b[39;49m\u001b[38;5;124;43m'\u001b[39;49m\u001b[43m,\u001b[49m\u001b[38;5;124;43m'\u001b[39;49m\u001b[38;5;124;43mbirthd\u001b[39;49m\u001b[38;5;124;43m'\u001b[39;49m\u001b[43m,\u001b[49m\u001b[38;5;124;43m'\u001b[39;49m\u001b[38;5;124;43mfans\u001b[39;49m\u001b[38;5;124;43m'\u001b[39;49m\u001b[43m]\u001b[49m\u001b[43m)\u001b[49m\u001b[38;5;241m.\u001b[39mcolumns\n\u001b[1;32m      5\u001b[0m X \u001b[38;5;241m=\u001b[39m df[features]\n\u001b[1;32m      7\u001b[0m y \u001b[38;5;241m=\u001b[39m df[y_label]\n",
      "File \u001b[0;32m/Applications/anaconda3/envs/analytics/lib/python3.11/site-packages/pandas/core/frame.py:5344\u001b[0m, in \u001b[0;36mDataFrame.drop\u001b[0;34m(self, labels, axis, index, columns, level, inplace, errors)\u001b[0m\n\u001b[1;32m   5196\u001b[0m \u001b[38;5;28;01mdef\u001b[39;00m \u001b[38;5;21mdrop\u001b[39m(\n\u001b[1;32m   5197\u001b[0m     \u001b[38;5;28mself\u001b[39m,\n\u001b[1;32m   5198\u001b[0m     labels: IndexLabel \u001b[38;5;241m|\u001b[39m \u001b[38;5;28;01mNone\u001b[39;00m \u001b[38;5;241m=\u001b[39m \u001b[38;5;28;01mNone\u001b[39;00m,\n\u001b[0;32m   (...)\u001b[0m\n\u001b[1;32m   5205\u001b[0m     errors: IgnoreRaise \u001b[38;5;241m=\u001b[39m \u001b[38;5;124m\"\u001b[39m\u001b[38;5;124mraise\u001b[39m\u001b[38;5;124m\"\u001b[39m,\n\u001b[1;32m   5206\u001b[0m ) \u001b[38;5;241m-\u001b[39m\u001b[38;5;241m>\u001b[39m DataFrame \u001b[38;5;241m|\u001b[39m \u001b[38;5;28;01mNone\u001b[39;00m:\n\u001b[1;32m   5207\u001b[0m \u001b[38;5;250m    \u001b[39m\u001b[38;5;124;03m\"\"\"\u001b[39;00m\n\u001b[1;32m   5208\u001b[0m \u001b[38;5;124;03m    Drop specified labels from rows or columns.\u001b[39;00m\n\u001b[1;32m   5209\u001b[0m \n\u001b[0;32m   (...)\u001b[0m\n\u001b[1;32m   5342\u001b[0m \u001b[38;5;124;03m            weight  1.0     0.8\u001b[39;00m\n\u001b[1;32m   5343\u001b[0m \u001b[38;5;124;03m    \"\"\"\u001b[39;00m\n\u001b[0;32m-> 5344\u001b[0m     \u001b[38;5;28;01mreturn\u001b[39;00m \u001b[38;5;28;43msuper\u001b[39;49m\u001b[43m(\u001b[49m\u001b[43m)\u001b[49m\u001b[38;5;241;43m.\u001b[39;49m\u001b[43mdrop\u001b[49m\u001b[43m(\u001b[49m\n\u001b[1;32m   5345\u001b[0m \u001b[43m        \u001b[49m\u001b[43mlabels\u001b[49m\u001b[38;5;241;43m=\u001b[39;49m\u001b[43mlabels\u001b[49m\u001b[43m,\u001b[49m\n\u001b[1;32m   5346\u001b[0m \u001b[43m        \u001b[49m\u001b[43maxis\u001b[49m\u001b[38;5;241;43m=\u001b[39;49m\u001b[43maxis\u001b[49m\u001b[43m,\u001b[49m\n\u001b[1;32m   5347\u001b[0m \u001b[43m        \u001b[49m\u001b[43mindex\u001b[49m\u001b[38;5;241;43m=\u001b[39;49m\u001b[43mindex\u001b[49m\u001b[43m,\u001b[49m\n\u001b[1;32m   5348\u001b[0m \u001b[43m        \u001b[49m\u001b[43mcolumns\u001b[49m\u001b[38;5;241;43m=\u001b[39;49m\u001b[43mcolumns\u001b[49m\u001b[43m,\u001b[49m\n\u001b[1;32m   5349\u001b[0m \u001b[43m        \u001b[49m\u001b[43mlevel\u001b[49m\u001b[38;5;241;43m=\u001b[39;49m\u001b[43mlevel\u001b[49m\u001b[43m,\u001b[49m\n\u001b[1;32m   5350\u001b[0m \u001b[43m        \u001b[49m\u001b[43minplace\u001b[49m\u001b[38;5;241;43m=\u001b[39;49m\u001b[43minplace\u001b[49m\u001b[43m,\u001b[49m\n\u001b[1;32m   5351\u001b[0m \u001b[43m        \u001b[49m\u001b[43merrors\u001b[49m\u001b[38;5;241;43m=\u001b[39;49m\u001b[43merrors\u001b[49m\u001b[43m,\u001b[49m\n\u001b[1;32m   5352\u001b[0m \u001b[43m    \u001b[49m\u001b[43m)\u001b[49m\n",
      "File \u001b[0;32m/Applications/anaconda3/envs/analytics/lib/python3.11/site-packages/pandas/core/generic.py:4711\u001b[0m, in \u001b[0;36mNDFrame.drop\u001b[0;34m(self, labels, axis, index, columns, level, inplace, errors)\u001b[0m\n\u001b[1;32m   4709\u001b[0m \u001b[38;5;28;01mfor\u001b[39;00m axis, labels \u001b[38;5;129;01min\u001b[39;00m axes\u001b[38;5;241m.\u001b[39mitems():\n\u001b[1;32m   4710\u001b[0m     \u001b[38;5;28;01mif\u001b[39;00m labels \u001b[38;5;129;01mis\u001b[39;00m \u001b[38;5;129;01mnot\u001b[39;00m \u001b[38;5;28;01mNone\u001b[39;00m:\n\u001b[0;32m-> 4711\u001b[0m         obj \u001b[38;5;241m=\u001b[39m \u001b[43mobj\u001b[49m\u001b[38;5;241;43m.\u001b[39;49m\u001b[43m_drop_axis\u001b[49m\u001b[43m(\u001b[49m\u001b[43mlabels\u001b[49m\u001b[43m,\u001b[49m\u001b[43m \u001b[49m\u001b[43maxis\u001b[49m\u001b[43m,\u001b[49m\u001b[43m \u001b[49m\u001b[43mlevel\u001b[49m\u001b[38;5;241;43m=\u001b[39;49m\u001b[43mlevel\u001b[49m\u001b[43m,\u001b[49m\u001b[43m \u001b[49m\u001b[43merrors\u001b[49m\u001b[38;5;241;43m=\u001b[39;49m\u001b[43merrors\u001b[49m\u001b[43m)\u001b[49m\n\u001b[1;32m   4713\u001b[0m \u001b[38;5;28;01mif\u001b[39;00m inplace:\n\u001b[1;32m   4714\u001b[0m     \u001b[38;5;28mself\u001b[39m\u001b[38;5;241m.\u001b[39m_update_inplace(obj)\n",
      "File \u001b[0;32m/Applications/anaconda3/envs/analytics/lib/python3.11/site-packages/pandas/core/generic.py:4753\u001b[0m, in \u001b[0;36mNDFrame._drop_axis\u001b[0;34m(self, labels, axis, level, errors, only_slice)\u001b[0m\n\u001b[1;32m   4751\u001b[0m         new_axis \u001b[38;5;241m=\u001b[39m axis\u001b[38;5;241m.\u001b[39mdrop(labels, level\u001b[38;5;241m=\u001b[39mlevel, errors\u001b[38;5;241m=\u001b[39merrors)\n\u001b[1;32m   4752\u001b[0m     \u001b[38;5;28;01melse\u001b[39;00m:\n\u001b[0;32m-> 4753\u001b[0m         new_axis \u001b[38;5;241m=\u001b[39m \u001b[43maxis\u001b[49m\u001b[38;5;241;43m.\u001b[39;49m\u001b[43mdrop\u001b[49m\u001b[43m(\u001b[49m\u001b[43mlabels\u001b[49m\u001b[43m,\u001b[49m\u001b[43m \u001b[49m\u001b[43merrors\u001b[49m\u001b[38;5;241;43m=\u001b[39;49m\u001b[43merrors\u001b[49m\u001b[43m)\u001b[49m\n\u001b[1;32m   4754\u001b[0m     indexer \u001b[38;5;241m=\u001b[39m axis\u001b[38;5;241m.\u001b[39mget_indexer(new_axis)\n\u001b[1;32m   4756\u001b[0m \u001b[38;5;66;03m# Case for non-unique axis\u001b[39;00m\n\u001b[1;32m   4757\u001b[0m \u001b[38;5;28;01melse\u001b[39;00m:\n",
      "File \u001b[0;32m/Applications/anaconda3/envs/analytics/lib/python3.11/site-packages/pandas/core/indexes/base.py:6992\u001b[0m, in \u001b[0;36mIndex.drop\u001b[0;34m(self, labels, errors)\u001b[0m\n\u001b[1;32m   6990\u001b[0m \u001b[38;5;28;01mif\u001b[39;00m mask\u001b[38;5;241m.\u001b[39many():\n\u001b[1;32m   6991\u001b[0m     \u001b[38;5;28;01mif\u001b[39;00m errors \u001b[38;5;241m!=\u001b[39m \u001b[38;5;124m\"\u001b[39m\u001b[38;5;124mignore\u001b[39m\u001b[38;5;124m\"\u001b[39m:\n\u001b[0;32m-> 6992\u001b[0m         \u001b[38;5;28;01mraise\u001b[39;00m \u001b[38;5;167;01mKeyError\u001b[39;00m(\u001b[38;5;124mf\u001b[39m\u001b[38;5;124m\"\u001b[39m\u001b[38;5;132;01m{\u001b[39;00mlabels[mask]\u001b[38;5;241m.\u001b[39mtolist()\u001b[38;5;132;01m}\u001b[39;00m\u001b[38;5;124m not found in axis\u001b[39m\u001b[38;5;124m\"\u001b[39m)\n\u001b[1;32m   6993\u001b[0m     indexer \u001b[38;5;241m=\u001b[39m indexer[\u001b[38;5;241m~\u001b[39mmask]\n\u001b[1;32m   6994\u001b[0m \u001b[38;5;28;01mreturn\u001b[39;00m \u001b[38;5;28mself\u001b[39m\u001b[38;5;241m.\u001b[39mdelete(indexer)\n",
      "\u001b[0;31mKeyError\u001b[0m: \"['fans'] not found in axis\""
     ]
    }
   ],
   "source": [
    "y_label = 'counts_profileVisits'\n",
    "\n",
    "features = df.drop(columns=[y_label,'gender','genderLooking', 'age','flirtInterests_chat','flirtInterests_friends','flirtInterests_date','country','city','location','distance','isFlirtstar','isHighlighted','isInfluencer','isMobile','isNew','isOnline','isVip','lang_count','lang_fr','lang_en','lang_de','lang_it','lang_es','lang_pt','verified','shareProfileEnabled','lastOnlineDate','lastOnlineTime','birthd','fans']).columns\n",
    "\n",
    "X = df[features]\n",
    "\n",
    "y = df[y_label]"
   ]
  },
  {
   "cell_type": "markdown",
   "metadata": {},
   "source": [
    "##### Logistic Regression"
   ]
  },
  {
   "cell_type": "markdown",
   "metadata": {},
   "source": [
    "Mit Hilfe von EDA wurden die nachfolgenden Variablen als mögliche Predictorvariablen identifiziert:\n",
    "- age\n",
    "- counts_details\n",
    "- counts_pictures\n",
    "- counts_profileVisits\n",
    "- counts_kisses"
   ]
  },
  {
   "cell_type": "markdown",
   "metadata": {},
   "source": [
    "Um die Daten im Modell weiterzuverwenden, werden im nächsten SChritt die Spalten ausgewählt, die für die Modellierung relevant sind. Diesen wird dann ihre entsprechende Rolle als Responsevariable (y_label) oder Predictor (feature) zugeordnet, und anschließend als X und y Variable definiert."
   ]
  },
  {
   "cell_type": "code",
   "execution_count": null,
   "metadata": {},
   "outputs": [],
   "source": [
    "y_label_lor = 'fans'\n",
    "\n",
    "features_lor = df.drop(columns=[y_label_lor, 'counts_fans', 'gender','genderLooking','flirtInterests_chat','flirtInterests_friends','flirtInterests_date','country','city','location','distance','isFlirtstar','isHighlighted','isInfluencer','isMobile','isNew','isOnline','isVip','lang_count','lang_fr','lang_en','lang_de','lang_it','lang_es','lang_pt','verified','shareProfileEnabled','lastOnlineDate','lastOnlineTime','birthd']).columns\n",
    "\n",
    "X_lor = df[features_lor]\n",
    "\n",
    "y_lor = df[y_label_lor]"
   ]
  },
  {
   "cell_type": "markdown",
   "metadata": {},
   "source": [
    "#### 1.3.6 Data Splitting"
   ]
  },
  {
   "cell_type": "markdown",
   "metadata": {},
   "source": [
    "Für die Analyse werden die Daten in Trainings- und Testdaten unterteilt. Die Trennung wird für beide Modelle vorgenommen, damit eventuell notwendige Veränderungen an den Daten, wie beispielweise die Eliminierung von Ausreißern keine Auswirkungen auf das andere Modell haben. Die Trainingsdaten zum trainieren des Modell verwendet, wohingegen die Testdann wird für die Evaluierung der Güte des Modells benötigt werden. "
   ]
  },
  {
   "cell_type": "markdown",
   "metadata": {},
   "source": [
    "**Lineare Regression**"
   ]
  },
  {
   "cell_type": "code",
   "execution_count": 15,
   "metadata": {
    "scrolled": true
   },
   "outputs": [
    {
     "ename": "NameError",
     "evalue": "name 'X' is not defined",
     "output_type": "error",
     "traceback": [
      "\u001b[0;31m---------------------------------------------------------------------------\u001b[0m",
      "\u001b[0;31mNameError\u001b[0m                                 Traceback (most recent call last)",
      "Cell \u001b[0;32mIn[15], line 1\u001b[0m\n\u001b[0;32m----> 1\u001b[0m X_train, X_test, y_train, y_test \u001b[38;5;241m=\u001b[39m train_test_split(\u001b[43mX\u001b[49m, y,test_size\u001b[38;5;241m=\u001b[39m\u001b[38;5;241m0.2\u001b[39m,random_state\u001b[38;5;241m=\u001b[39m\u001b[38;5;241m42\u001b[39m)\n",
      "\u001b[0;31mNameError\u001b[0m: name 'X' is not defined"
     ]
    }
   ],
   "source": [
    "X_train, X_test, y_train, y_test = train_test_split(X, y,test_size=0.2,random_state=42)"
   ]
  },
  {
   "cell_type": "code",
   "execution_count": null,
   "metadata": {},
   "outputs": [],
   "source": [
    "df_train = pd.DataFrame(X_train.copy())\n",
    "df_train = df_train.join(pd.DataFrame(y_train))"
   ]
  },
  {
   "cell_type": "markdown",
   "metadata": {},
   "source": [
    "**Logistische Regression**"
   ]
  },
  {
   "cell_type": "code",
   "execution_count": null,
   "metadata": {},
   "outputs": [],
   "source": [
    "X_train_lor, X_test_lor, y_train_lor, y_test_lor = train_test_split(X_lor, y_lor,test_size=0.2,random_state=42)"
   ]
  },
  {
   "cell_type": "code",
   "execution_count": null,
   "metadata": {},
   "outputs": [],
   "source": [
    "df_train_lor = pd.DataFrame(X_train_lor.copy())\n",
    "df_train_lor = df_train_lor.join(pd.DataFrame(y_train_lor))"
   ]
  },
  {
   "cell_type": "markdown",
   "metadata": {},
   "source": [
    "#### 1.3.7 Exploratory data analysis"
   ]
  },
  {
   "cell_type": "markdown",
   "metadata": {},
   "source": [
    "##### Linear Regression"
   ]
  },
  {
   "cell_type": "markdown",
   "metadata": {},
   "source": [
    "##### Logistic Regression"
   ]
  },
  {
   "cell_type": "code",
   "execution_count": 12,
   "metadata": {},
   "outputs": [
    {
     "ename": "NameError",
     "evalue": "name 'df_train_lor' is not defined",
     "output_type": "error",
     "traceback": [
      "\u001b[0;31m---------------------------------------------------------------------------\u001b[0m",
      "\u001b[0;31mNameError\u001b[0m                                 Traceback (most recent call last)",
      "Cell \u001b[0;32mIn[12], line 2\u001b[0m\n\u001b[1;32m      1\u001b[0m selected_columns \u001b[38;5;241m=\u001b[39m [\u001b[38;5;124m'\u001b[39m\u001b[38;5;124mcounts_profileVisits\u001b[39m\u001b[38;5;124m'\u001b[39m, \u001b[38;5;124m'\u001b[39m\u001b[38;5;124mage\u001b[39m\u001b[38;5;124m'\u001b[39m, \u001b[38;5;124m'\u001b[39m\u001b[38;5;124mcounts_details\u001b[39m\u001b[38;5;124m'\u001b[39m, \u001b[38;5;124m'\u001b[39m\u001b[38;5;124mcounts_pictures\u001b[39m\u001b[38;5;124m'\u001b[39m, \u001b[38;5;124m'\u001b[39m\u001b[38;5;124mcounts_kisses\u001b[39m\u001b[38;5;124m'\u001b[39m]\n\u001b[0;32m----> 2\u001b[0m grouped_describe \u001b[38;5;241m=\u001b[39m \u001b[43mdf_train_lor\u001b[49m\u001b[38;5;241m.\u001b[39mgroupby(by\u001b[38;5;241m=\u001b[39m[\u001b[38;5;124m'\u001b[39m\u001b[38;5;124mfans\u001b[39m\u001b[38;5;124m'\u001b[39m])\u001b[38;5;241m.\u001b[39mdescribe()\u001b[38;5;241m.\u001b[39mT\u001b[38;5;241m.\u001b[39mloc[selected_columns]\n\u001b[1;32m      3\u001b[0m grouped_describe\n",
      "\u001b[0;31mNameError\u001b[0m: name 'df_train_lor' is not defined"
     ]
    }
   ],
   "source": [
    "selected_columns = ['counts_profileVisits', 'age', 'counts_details', 'counts_pictures', 'counts_kisses']\n",
    "grouped_describe = df_train_lor.groupby(by=['fans']).describe().T.loc[selected_columns]\n",
    "grouped_describe"
   ]
  },
  {
   "cell_type": "code",
   "execution_count": 3,
   "metadata": {},
   "outputs": [
    {
     "ename": "NameError",
     "evalue": "name 'selected_columns' is not defined",
     "output_type": "error",
     "traceback": [
      "\u001b[0;31m---------------------------------------------------------------------------\u001b[0m",
      "\u001b[0;31mNameError\u001b[0m                                 Traceback (most recent call last)",
      "Cell \u001b[0;32mIn[3], line 2\u001b[0m\n\u001b[1;32m      1\u001b[0m charts \u001b[38;5;241m=\u001b[39m []\n\u001b[0;32m----> 2\u001b[0m \u001b[38;5;28;01mfor\u001b[39;00m column \u001b[38;5;129;01min\u001b[39;00m \u001b[43mselected_columns\u001b[49m:\n\u001b[1;32m      3\u001b[0m     chart \u001b[38;5;241m=\u001b[39m alt\u001b[38;5;241m.\u001b[39mChart(df_train_lor)\u001b[38;5;241m.\u001b[39mmark_area(\n\u001b[1;32m      4\u001b[0m         opacity\u001b[38;5;241m=\u001b[39m\u001b[38;5;241m0.5\u001b[39m,\n\u001b[1;32m      5\u001b[0m         interpolate\u001b[38;5;241m=\u001b[39m\u001b[38;5;124m'\u001b[39m\u001b[38;5;124mstep\u001b[39m\u001b[38;5;124m'\u001b[39m\n\u001b[0;32m   (...)\u001b[0m\n\u001b[1;32m      9\u001b[0m         alt\u001b[38;5;241m.\u001b[39mColor(\u001b[38;5;124m'\u001b[39m\u001b[38;5;124mfans:N\u001b[39m\u001b[38;5;124m'\u001b[39m),\n\u001b[1;32m     10\u001b[0m     )\u001b[38;5;241m.\u001b[39mproperties(width\u001b[38;5;241m=\u001b[39m\u001b[38;5;241m150\u001b[39m, height\u001b[38;5;241m=\u001b[39m\u001b[38;5;241m150\u001b[39m, title\u001b[38;5;241m=\u001b[39m\u001b[38;5;124mf\u001b[39m\u001b[38;5;124m'\u001b[39m\u001b[38;5;124mHistogram for \u001b[39m\u001b[38;5;132;01m{\u001b[39;00mcolumn\u001b[38;5;132;01m}\u001b[39;00m\u001b[38;5;124m'\u001b[39m)\n\u001b[1;32m     12\u001b[0m     charts\u001b[38;5;241m.\u001b[39mappend(chart)\n",
      "\u001b[0;31mNameError\u001b[0m: name 'selected_columns' is not defined"
     ]
    }
   ],
   "source": [
    "charts = []\n",
    "for column in selected_columns:\n",
    "    chart = alt.Chart(df_train_lor).mark_area(\n",
    "        opacity=0.5,\n",
    "        interpolate='step'\n",
    "    ).encode(\n",
    "        alt.X(column, bin=alt.Bin(maxbins=40)),\n",
    "        alt.Y('count()', stack=None),\n",
    "        alt.Color('fans:N'),\n",
    "    ).properties(width=150, height=150, title=f'Histogram for {column}')\n",
    "\n",
    "    charts.append(chart)\n",
    "\n",
    "alt.vconcat(*[alt.hconcat(*charts[i:i+3]) for i in range(0, len(charts), 3)])"
   ]
  },
  {
   "cell_type": "code",
   "execution_count": null,
   "metadata": {},
   "outputs": [],
   "source": [
    "charts = []\n",
    "for column in selected_columns:\n",
    "    chart = alt.Chart(df_train_lor).mark_boxplot(\n",
    "        size=50,\n",
    "        opacity=0.7\n",
    "    ).encode(\n",
    "        x='fans:N',\n",
    "        y=alt.Y(f'{column}:Q', scale=alt.Scale(zero=True)),\n",
    "        color='fans:N'\n",
    "    ).properties(width=150, height=150, title=f'Boxplot for {column}')\n",
    "\n",
    "    charts.append(chart)\n",
    "\n",
    "alt.vconcat(*[alt.hconcat(*charts[i:i+2]) for i in range(0, len(charts), 2)])"
   ]
  },
  {
   "cell_type": "markdown",
   "metadata": {},
   "source": [
    "## 2. Methodology"
   ]
  },
  {
   "cell_type": "markdown",
   "metadata": {},
   "source": [
    "> REMOVE THE FOLLOWING TEXT\n",
    "\n",
    "This section includes a brief description of your modeling process.\n",
    "\n",
    "Explain the reasoning for the type of model you're fitting, predictor variables considered for the model.\n",
    "\n",
    "Additionally, show how you arrived at the final model by describing the model selection process, variable transformations (if needed), assessment of conditions and diagnostics, and any other relevant considerations that were part of the model fitting process."
   ]
  },
  {
   "cell_type": "markdown",
   "metadata": {},
   "source": [
    "### 2.1 Lineare Regression"
   ]
  },
  {
   "cell_type": "markdown",
   "metadata": {},
   "source": [
    "### 2.2 Logistische Regression"
   ]
  },
  {
   "cell_type": "markdown",
   "metadata": {},
   "source": [
    "## 3. Results"
   ]
  },
  {
   "cell_type": "markdown",
   "metadata": {},
   "source": [
    "> REMOVE THE FOLLOWING TEXT\n",
    "\n",
    "This is where you will output the final model with any relevant model fit statistics.\n",
    "\n",
    "Describe the key results from the model.\n",
    "The goal is not to interpret every single variable in the model but rather to show that you are proficient in using the model output to address the research questions, using the interpretations to support your conclusions.\n",
    "\n",
    "Focus on the variables that help you answer the research question and that provide relevant context for the reader.\n"
   ]
  },
  {
   "cell_type": "markdown",
   "metadata": {},
   "source": [
    "**Lineare Regression**"
   ]
  },
  {
   "cell_type": "markdown",
   "metadata": {},
   "source": [
    "Für die lineare Regression wurden insgesamt vier Predictorvariablen verwendet (counts_details, counts_pictures, counts_kisses und couts_fans), um vorherzusagen, wie viele Profilbesuche in Lovoo Profil mit bestimmten Merkmalen erhalten wird. Das Modell soll also die Frage beantworten, wie stark sich ein neues hochgeladenes Bild, eine neue Information auf dem Profil, ein neuer Fan oder ein neuer Kiss auf die Anzahl der ProfilVisits auswirkt.\n",
    "\n",
    "Die größte Auswirkung auf die Anzahl der User, die das Profil besuchen, hat das Hochladen eines neuen Bildes, hier ist der Slope am größten, gefolgt von einem neuen Detail auf dem Profil. Das lässt sich dadurch erklären, dass bei beiden Variablen eine neue Information über den User hochgeladen wird, auf den andere Nutzer hingewiesen werden und der bei diesen möglicherweise das Interesse weckt. Die anderen Variablen erhöhen sich lediglich durch das Zutun anderer Nutzer auf der Plattform. Auch wenn die anderen beiden Predictorvariablen nur geringe Auswirkungen haben, sind alle Koeffizienten positiv, was bedeutet, dass sich grundsätzlich die Erhöhung jeder Predictorvariable auch positiv auf die Entwicklung der Profilbesuche auswirkt.\n",
    "\n",
    "Das Modell zeigt mit einem R^2 Score einen akzeptablen Wert, allerdings sind die durchschnittlichen Abweichungen der vorhergesagten Werte von den tatsächlichen Ergebnissen sehr groß, weshalb es fraglich ist, ob das Modell gerade bei Profil mit wenig Interaktion tatsächlich zielführend ist. Das Problem bleibt auch bei der Reduzierung der Predictorvariablen um die Variablen mit geringer Korrelation bestehen sowie bei Filterung der Ausreißer."
   ]
  },
  {
   "cell_type": "markdown",
   "metadata": {},
   "source": [
    "**Logistische Regression**"
   ]
  },
  {
   "cell_type": "markdown",
   "metadata": {},
   "source": [
    "Zur Vorhersage, ob ein Profil Fans generiert oder nicht wurden vier mögliche Predictorvariablen in der Modellierung berücksichtigt. Zum einen counts_profileVisits, counts_details und counts_pictures stehen in diesem Modell in einer positiven Zusammenhang zur untersuchten Responsevariablen fans. Das bedeutet, dass je mehr Besucher, hochgeladene Bilder und befüllte Details ein Profil aufweist, desto wahrscheinlicher ist es, dass dieses profil auch Fans generiert. Die Beziehung zwischen den Fand und dem Grad der befüllten Details ist dabei am stärksten. Das bedeutet, dass die Angabe von Details auf dem Profil besonders wichtig ist um Fans zu generieren. Der Zusammenhang zur vierten Predictorvariablen counts_kisses ist negativ. Dies kann sich unter anderem dadurch erklären lassen, dass wenn ein Nutzer ein Profil besucht sich tendeziell entscheidet ob er diesem Profil folgt und somit zum Fan wird oder vllt. auch einen virtuellen Kiss dalässt um auch so das Interesse zu zeigen.\n",
    "\n",
    "Für das Modell sind haben die falsch negativen Werte eine geringere Bedeutung als die falsch positiven Werte, denn Ziel der Nutzer ist es immer andere Menschen auf der Plattform kennenzulernen. Das heißt für die Nutzer ist die Erkenntnis wichtig wie Fans generiert werden können, und nicht wie keine generiert werden können. Aus diesem Grund muss der Wert der falsch positiven Werte so gering wie möglich gehalten werden. Das bedeutet auch, dass der Schwellenwert für das Modell tendenziell hoch angesetzt werden muss.\n",
    "\n",
    "Durch die Ungleichverteilung in der Ausprägung der Daten (Verhältnis 1 zu 3) ist die Genauigkeit insbesondere für die korrekt negativ vorhergesagten Werte gut."
   ]
  },
  {
   "cell_type": "markdown",
   "metadata": {},
   "source": [
    "## 4. Discussion + Conclusion\n"
   ]
  },
  {
   "cell_type": "markdown",
   "metadata": {},
   "source": [
    "> REMOVE THE FOLLOWING TEXT\n",
    "\n",
    "In this section you'll include a summary of what you have learned about your research question along with statistical arguments supporting your conclusions.\n",
    "In addition, discuss the limitations of your analysis and provide suggestions on ways the analysis could be improved.\n",
    "Any potential issues pertaining to the reliability and validity of your data and appropriateness of the statistical analysis should also be discussed here.\n",
    "Lastly, this section will include ideas for future work."
   ]
  },
  {
   "cell_type": "markdown",
   "metadata": {},
   "source": []
  },
  {
   "cell_type": "code",
   "execution_count": null,
   "metadata": {},
   "outputs": [],
   "source": []
  }
 ],
 "metadata": {
  "kernelspec": {
   "display_name": "Python 3 (ipykernel)",
   "language": "python",
   "name": "python3"
  },
  "language_info": {
   "codemirror_mode": {
    "name": "ipython",
    "version": 3
   },
   "file_extension": ".py",
   "mimetype": "text/x-python",
   "name": "python",
   "nbconvert_exporter": "python",
   "pygments_lexer": "ipython3",
   "version": "3.11.6"
  },
  "vscode": {
   "interpreter": {
    "hash": "31f2aee4e71d21fbe5cf8b01ff0e069b9275f58929596ceb00d14d90e3e16cd6"
   }
  }
 },
 "nbformat": 4,
 "nbformat_minor": 4
}
