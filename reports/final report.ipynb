{
 "cells": [
  {
   "cell_type": "markdown",
   "metadata": {},
   "source": [
    "# Final Report"
   ]
  },
  {
   "cell_type": "markdown",
   "metadata": {},
   "source": [
    "## 1. Introduction and data"
   ]
  },
  {
   "cell_type": "markdown",
   "metadata": {},
   "source": [
    "### 1.1 Introduction and motivation"
   ]
  },
  {
   "cell_type": "markdown",
   "metadata": {},
   "source": [
    "In einer zunehmend digital geprägten Welt haben sich die Grundlagen zwischenmenschlicher Beziehungen stark verändert. Einkaufen, Verträge abschließen und neue Menschen kennenlernen geschieht vermehrt durch einen simplen Klick auf das Smartphone. Dating-Plattformen wie Lovoo, Tinder oder Bumble haben die Partnersuche revolutioniert. Laut einer Umfrage hat sich jedes vierte Paar online oder über Dating-Apps kennengelernt, was diese Methode zur beliebtesten Art der Partnerfindung im Jahr 2023 macht (Quelle: Statista)\n",
    "\n",
    "Mit zunehmender Nutzung von Dating-Plattformen entsteht die Herausforderung, wie ein Profil in der Masse hervorstechen, positive Reaktionen erzeugen und die Aufmerksamkeit anderer Nutzer gewinnen kann. In dieser digitalen Ära müssen Nutzer von Plattformen wie Lovoo ihre Persönlichkeit und Anziehungskraft in einem beschränkten virtuellen Raum präsentieren. Die Gestaltung des begrenzten Nutzerprofils wird zur entscheidenden Methode, um die Aufmerksamkeit anderer zu erlangen\n",
    "\n",
    "Das Projekt zielt darauf ab, die Schlüsselelemente erfolgreicher Lovoo-Profile zu identifizieren und zu untersuchen, welche Merkmale zur Interaktion anregen. Die Erkenntnisse sind relevant für die Suche nach romantischen Beziehungen und werfen Fragen zu menschlichem Verhalten in der digitalen Gesellschaft auf. Durch die Analyse von Nutzerdaten trägt das Projekt zu einem tieferen Verständnis der Erfolgsfaktoren im Online-Dating bei.\n"
   ]
  },
  {
   "cell_type": "markdown",
   "metadata": {},
   "source": [
    "### 1.2 Research question"
   ]
  },
  {
   "cell_type": "markdown",
   "metadata": {},
   "source": [
    "**Forschungsfrage:**\n",
    "In dieser Studie werden weibliche Nutzerprofile analysiert, um herauszufinden, welche Voraussetzungen die Chancen auf virtuelle Interaktion erhöhen. Die Erkenntnisse ermöglichen nicht nur die optimale Anpassung von Profilen für individuellen Erfolg, sondern bieten auch Einblicke in soziokulturelle Dynamiken und digitale Kommunikationsstrategien.\n",
    "\n",
    "**Hypothese 1 - Lineare Regression:**\n",
    "Die erste Hypothese besagt, dass die Informationsdichte, Bildanzahl, Fans, generierte \"Kisses\" auf einem Profil signifikante Einflussfaktoren auf die Profilbesuche darstellen. Es wird davon ausgegangen, dass mehr Informationen, Bilder, Fans und \"Kisses\" zu mehr Besuchen führen. Die Hypothese lautet: \"Die Profilbesuche lassen sich durch eine lineare Regression anhand der genannten Merkmale vorhersagen.\n",
    "\n",
    "**Hypothese 2 - Logistische Regression:**\n",
    "Die zweite Hypothese besagt, dass die Eigenschaften eines Accounts entscheidend sind, um Fans zu generieren, also andere Nutzer zum folgen des Profils zu bewegen. Es wird erwartet, dass die Informationsdichte des Profils, die Anzahl der Bilder und Profilbesuche, generierten Kisses und das Alter der Person signifikante Prädiktoren für das Generieren von Fans sind. Die Hypothese lautet daher: \"Anhand der Nutzerdaten kann vorhergesagt werden, ob ein Profil das Potenzial hat, mindestens einen Fan zu generieren oder nicht, durch eine logistische Regression.\"\n",
    "\n",
    "Diesen Forschungsfragen und Hypothesen werden im Verlauf des Projekts durch die Analyse von Nutzerprofilen und die Anwendung entsprechender statistischer Modelle untersucht und validiert."
   ]
  },
  {
   "cell_type": "markdown",
   "metadata": {},
   "source": [
    "### 1.3 Data"
   ]
  },
  {
   "cell_type": "markdown",
   "metadata": {},
   "source": [
    "#### 1.3.1 Data origin"
   ]
  },
  {
   "cell_type": "markdown",
   "metadata": {},
   "source": [
    "Im Frühjahr 2015 wurden die Daten für den Datensatz gezielt von Lovoo-Nutzerprofilen abgegriffen. Der Urheber nutzte eigens entwickelte Tools, um präzise Informationen während der Nutzung, den Profilaufrufen und Suchanfragen zu sammeln. Zwei Profile, die den Lovoo-Algorithmus-Empfehlungen folgten, wurden erstellt und repräsentierten die Person und Interessen des Urhebers. Die Profile signalisierten Offenheit für Freundschaften, Chats und Dates. Da der Urheber männlich und ausschließlich an Frauen interessiert ist, enthält der Datensatz ausschließlich weibliche Nutzerprofile. Für Daten zu anderen Geschlechtern oder Altersgruppen wäre eine separate Datenerhebung mit entsprechenden Profilen erforderlich."
   ]
  },
  {
   "cell_type": "markdown",
   "metadata": {},
   "source": [
    "#### 1.3.2 Data structure"
   ]
  },
  {
   "cell_type": "markdown",
   "metadata": {},
   "source": [
    "Grundsätzlich handelt es sich bei dem Data Set um eine Aufstellung von Informationen zu verschiedenen Nutzerprofilen auf der Dating Plattform Lovoo. Dabei repräsentiert jede Zeile, also jeder Case, ein eigenes Nutzerprofil. Das Dataset verfügt insgesamt über 3855 Zeilen und 43 Spalten."
   ]
  },
  {
   "cell_type": "markdown",
   "metadata": {},
   "source": [
    "#### 1.3.3 Data corrections"
   ]
  },
  {
   "cell_type": "markdown",
   "metadata": {},
   "source": [
    "Um den vorliegenden Datensatz für die lineare sowie logitsische Regression verwenden zu können, mussten Korrekturen an dem Datensatz vorgenommen werden.\n",
    "\n",
    "**Entfernung von NaN-Werten**\n",
    "Der Datensatz enthält einige Profildaten mit NaN-Werten. Zur besseren Modellierung wurden die Zeilen mit NaN-Werte aus dem Datensatz entfernt, da im linearen Regressionsmodellen keine Leerzellen bzw. NaN Werte akzeptiert werden. \n",
    "\n",
    "**Hinzufügen der Variable \"fans\"**\n",
    "Die Variable \"counts_fans\" wird in eine kategoriale Variable umgewandelt, sodass diese für die logistische Regression angewendet werden kann. Dem DataFrame wird eine neue Spalte hinzugefügt, die Angibt, ob das in der Zeile repräsentierte Profil über Fans verfügt oder nicht. Ist die Zahl der Spalte \"counts_fans\" größer oder gleich Eins, so wird das Profil in der neuen Spalte \"fans\" mit einer 1 gekennzeichnet. Verfügt das Profil über keine Fans, erhält es eine 0.\n",
    "\n",
    "**Korrektur von fehlerhaften Zeilen**\n",
    "Bei Betrachtung der Ausprägungen in der Spalte Gender, fällt auf, dass die zugrunde liegende csv-Tablle in einigen Zeilen fehlerhaft war, weshalb dort in der entsprechenden Spalte keine der erwarteten Ausprägungen F (= Frau), M (= Mann) und none (= keine Angabe) vermerkt ist. Die fehlerhaft Datenstruktur erstreckt sich über die ganze Zeile, weshalb sie identifiziert und entfernt werden müssen. Hierzu werden die obengenannten Ausprägungen als accepted Values festgelegt.\n",
    "\n",
    "**Entfernung von nicht verwendeten Spalten**\n",
    "Der Datensatz enthält viele Spalten, die für die nachfolgende Modellierung irrelevant sind, diese wurden aus dem Datensatz entfernt.\n",
    "\n",
    "Der bereinigte Datensatz wird als csv-Datei abgespeichert und kann so für das weitere Vorgehen importiert werden."
   ]
  },
  {
   "cell_type": "code",
   "execution_count": 5,
   "metadata": {},
   "outputs": [],
   "source": [
    "URLc = 'https://raw.githubusercontent.com/DA-Statistics-Nadine-Alena/project/main/reports/data_corrected.csv'\n",
    "df = pd.read_csv(URLc)"
   ]
  },
  {
   "cell_type": "markdown",
   "metadata": {},
   "source": [
    "#### 1.3.4 Data dictionary"
   ]
  },
  {
   "cell_type": "code",
   "execution_count": 6,
   "metadata": {},
   "outputs": [
    {
     "data": {
      "text/html": [
       "<div>\n",
       "<style scoped>\n",
       "    .dataframe tbody tr th:only-of-type {\n",
       "        vertical-align: middle;\n",
       "    }\n",
       "\n",
       "    .dataframe tbody tr th {\n",
       "        vertical-align: top;\n",
       "    }\n",
       "\n",
       "    .dataframe thead th {\n",
       "        text-align: right;\n",
       "    }\n",
       "</style>\n",
       "<table border=\"1\" class=\"dataframe\">\n",
       "  <thead>\n",
       "    <tr style=\"text-align: right;\">\n",
       "      <th></th>\n",
       "      <th>Name</th>\n",
       "      <th>Description</th>\n",
       "      <th>Role</th>\n",
       "      <th>Type</th>\n",
       "      <th>Format</th>\n",
       "    </tr>\n",
       "  </thead>\n",
       "  <tbody>\n",
       "    <tr>\n",
       "      <th>0</th>\n",
       "      <td>counts_profileVisits</td>\n",
       "      <td>Anzahl der Besuche anderer Nutzer auf dem betr...</td>\n",
       "      <td>Response</td>\n",
       "      <td>numerisch</td>\n",
       "      <td>float</td>\n",
       "    </tr>\n",
       "    <tr>\n",
       "      <th>1</th>\n",
       "      <td>counts_details</td>\n",
       "      <td>Anteil der auf dem Profil gefüllen Accountdetails</td>\n",
       "      <td>Predictor</td>\n",
       "      <td>numerisch</td>\n",
       "      <td>float</td>\n",
       "    </tr>\n",
       "    <tr>\n",
       "      <th>2</th>\n",
       "      <td>age</td>\n",
       "      <td>Alter des Profilinhabers</td>\n",
       "      <td>Predictor</td>\n",
       "      <td>numerisch</td>\n",
       "      <td>float</td>\n",
       "    </tr>\n",
       "    <tr>\n",
       "      <th>3</th>\n",
       "      <td>counts_pictures</td>\n",
       "      <td>Anzahl der auf dem Profil hochgeladenen Bilder</td>\n",
       "      <td>Predictor</td>\n",
       "      <td>numerisch</td>\n",
       "      <td>float</td>\n",
       "    </tr>\n",
       "    <tr>\n",
       "      <th>4</th>\n",
       "      <td>counts_kisses</td>\n",
       "      <td>Anzahl der für das Profil vergebenen Kisses (ä...</td>\n",
       "      <td>Predictor</td>\n",
       "      <td>numerisch</td>\n",
       "      <td>float</td>\n",
       "    </tr>\n",
       "    <tr>\n",
       "      <th>5</th>\n",
       "      <td>counts_fans</td>\n",
       "      <td>Anzahl der Fans des Profils, ähnlich Follower ...</td>\n",
       "      <td>Predictor</td>\n",
       "      <td>numerisch</td>\n",
       "      <td>float</td>\n",
       "    </tr>\n",
       "    <tr>\n",
       "      <th>6</th>\n",
       "      <td>fans</td>\n",
       "      <td>Binerische Angabe, ob ein Profil über Fans ver...</td>\n",
       "      <td>Response</td>\n",
       "      <td>nominal</td>\n",
       "      <td>category</td>\n",
       "    </tr>\n",
       "  </tbody>\n",
       "</table>\n",
       "</div>"
      ],
      "text/plain": [
       "                   Name                                        Description  \\\n",
       "0  counts_profileVisits  Anzahl der Besuche anderer Nutzer auf dem betr...   \n",
       "1        counts_details  Anteil der auf dem Profil gefüllen Accountdetails   \n",
       "2                   age                           Alter des Profilinhabers   \n",
       "3       counts_pictures     Anzahl der auf dem Profil hochgeladenen Bilder   \n",
       "4         counts_kisses  Anzahl der für das Profil vergebenen Kisses (ä...   \n",
       "5           counts_fans  Anzahl der Fans des Profils, ähnlich Follower ...   \n",
       "6                  fans  Binerische Angabe, ob ein Profil über Fans ver...   \n",
       "\n",
       "        Role       Type    Format  \n",
       "0   Response  numerisch     float  \n",
       "1  Predictor  numerisch     float  \n",
       "2  Predictor  numerisch     float  \n",
       "3  Predictor  numerisch     float  \n",
       "4  Predictor  numerisch     float  \n",
       "5  Predictor  numerisch     float  \n",
       "6   Response    nominal  category  "
      ]
     },
     "execution_count": 6,
     "metadata": {},
     "output_type": "execute_result"
    }
   ],
   "source": [
    "data = {\n",
    "    'Name': ['counts_profileVisits', 'counts_details', 'age', 'counts_pictures', 'counts_kisses', 'counts_fans', 'fans'],\n",
    "    'Description': ['Anzahl der Besuche anderer Nutzer auf dem betrachteten Profil', 'Anteil der auf dem Profil gefüllen Accountdetails', 'Alter des Profilinhabers', 'Anzahl der auf dem Profil hochgeladenen Bilder', 'Anzahl der für das Profil vergebenen Kisses (ähnlich den Likes auf Instagram)', 'Anzahl der Fans des Profils, ähnlich Follower auf anderen Plattformen', 'Binerische Angabe, ob ein Profil über Fans verfügt oder nicht '],\n",
    "    'Role': ['Response', 'Predictor', 'Predictor', 'Predictor', 'Predictor', 'Predictor', 'Response'],\n",
    "    'Type': ['numerisch', 'numerisch', 'numerisch', 'numerisch', 'numerisch', 'numerisch', 'nominal'],\n",
    "    'Format': ['float', 'float', 'float', 'float', 'float','float', 'category']\n",
    "}\n",
    "data_dictionary = pd.DataFrame(data)\n",
    "data_dictionary"
   ]
  },
  {
   "cell_type": "markdown",
   "metadata": {},
   "source": [
    "#### 1.3.5 Defintion Key variables"
   ]
  },
  {
   "cell_type": "markdown",
   "metadata": {},
   "source": [
    "##### Linear Regression"
   ]
  },
  {
   "cell_type": "markdown",
   "metadata": {},
   "source": [
    "Mit der linearen Regression sollen Merkmale eines Nutzerprofils auf Lovoo zu identifiziert werden, die die Anzahl der Profilbesucher erhöhen um somit die Interaktion mit anderen Nutzern der Plattform steigern. Die **Responsevariable** ist \"count_profileVisits\". Ziel ist es, die Anzahl der Profilbesuche eines Accounts anhand ausgwählter Nutzungsdaten vorherzusagen. "
   ]
  },
  {
   "cell_type": "markdown",
   "metadata": {},
   "source": [
    "Mit Hilfe von EDA wurden die folgenden Variablen als mögliche **Predictorvariablen** identifiziert.\n",
    "- counts_details\n",
    "- counts_pictures\n",
    "- counts_kisses\n",
    "- counts_fans"
   ]
  },
  {
   "cell_type": "markdown",
   "metadata": {},
   "source": [
    "##### Logistic Regression"
   ]
  },
  {
   "cell_type": "markdown",
   "metadata": {},
   "source": [
    "Mit Hilfe von EDA wurden die nachfolgenden Variablen als mögliche Predictorvariablen identifiziert:\n",
    "- age\n",
    "- counts_details\n",
    "- counts_pictures\n",
    "- counts_profileVisits\n",
    "- counts_kisses"
   ]
  },
  {
   "cell_type": "markdown",
   "metadata": {},
   "source": [
    "Um die Daten im Modell weiterzuverwenden, werden im nächsten Schritt die Spalten ausgewählt, die für die beiden Modellierungen relevant sind. Diesen wird dann ihre entsprechende Rolle als Responsevariable (y_label) oder Predictor (feature) zugeordnet, und anschließend als X und y Variable definiert."
   ]
  },
  {
   "cell_type": "markdown",
   "metadata": {},
   "source": [
    "Bei der Datenstructur ist anzumerken, dass es viele IDs und zahlreiche numerische Variablen enthält, jedoch nur eine überschaubare Anzahl an numerischen Faktoren, die sich für eine Modellierung eignen. Dadurch waren wir in der Auswahl der Predictorvariablen stark eingeschränkt. Die wenigen numerischen Daten, die das Dataset vorzuweisen hat, haben aber alle eine fachliche Relevanz, weshalb sie für die Modellierung letztendlich geeignet waren. "
   ]
  },
  {
   "cell_type": "markdown",
   "metadata": {},
   "source": [
    "#### 1.3.6 Data Splitting"
   ]
  },
  {
   "cell_type": "markdown",
   "metadata": {},
   "source": [
    "Für die Analyse werden die Daten in Trainings- und Testdaten unterteilt. Die Trennung wird für beide Modelle vorgenommen, damit eventuell notwendige Veränderungen an den Daten, wie z.B die Eliminierung von Ausreißern keine Auswirkungen auf das andere Modell haben. Die Trainingsdaten werden zum trainieren des Modell verwendet, die Testdann wird für die Evaluierung. "
   ]
  },
  {
   "cell_type": "markdown",
   "metadata": {},
   "source": [
    "#### 1.3.7 Exploratory data analysis"
   ]
  },
  {
   "cell_type": "markdown",
   "metadata": {},
   "source": [
    "##### Linear Regression"
   ]
  },
  {
   "cell_type": "markdown",
   "metadata": {},
   "source": [
    "Die deskriptive Statistik lässt erkennen, dass die Daten einiger Variablen deutlich ungleich verteilt sind. Während der Anteil der auf dem Profil gegebenen Informationen noch recht gleichmäßig zwischen 0 und 1 liegt, weist die Variable counts_prictures bereits rechtsschiefe Tendenzen auf. Das Verhältnis von Maximalwert und 75% Quartil weist auf Ausreißer hin.\n",
    "\n",
    "Verstärktes zeichnet sich das Bild bei counts_kisses ab. Auch hier liegt eine rechtsschiefe Verteilung vor. Die Ausreißer könnten sich stark auf die Qualität des Modells auswirken.\n",
    "\n",
    "Counts_fans weist eine sehr extreme Rechtsschiefe auf, bei der die Accounts ohne Fans deutlich ins Gewicht Fallen. Auch hier liegen Ausreißer deutlich über dem durchschnittlichen Niveau. Die Responsevariable counts_profileVisits verhält sich sehr ähnlich den counts_kisses. "
   ]
  },
  {
   "cell_type": "code",
   "execution_count": 3,
   "metadata": {},
   "outputs": [
    {
     "ename": "NameError",
     "evalue": "name 'alt' is not defined",
     "output_type": "error",
     "traceback": [
      "\u001b[0;31m---------------------------------------------------------------------------\u001b[0m",
      "\u001b[0;31mNameError\u001b[0m                                 Traceback (most recent call last)",
      "Cell \u001b[0;32mIn[3], line 1\u001b[0m\n\u001b[0;32m----> 1\u001b[0m \u001b[43malt\u001b[49m\u001b[38;5;241m.\u001b[39mChart(df_train)\u001b[38;5;241m.\u001b[39mmark_circle()\u001b[38;5;241m.\u001b[39mencode(\n\u001b[1;32m      2\u001b[0m     alt\u001b[38;5;241m.\u001b[39mX(alt\u001b[38;5;241m.\u001b[39mrepeat(\u001b[38;5;124m\"\u001b[39m\u001b[38;5;124mcolumn\u001b[39m\u001b[38;5;124m\"\u001b[39m), \u001b[38;5;28mtype\u001b[39m\u001b[38;5;241m=\u001b[39m\u001b[38;5;124m'\u001b[39m\u001b[38;5;124mquantitative\u001b[39m\u001b[38;5;124m'\u001b[39m),\n\u001b[1;32m      3\u001b[0m     alt\u001b[38;5;241m.\u001b[39mY(alt\u001b[38;5;241m.\u001b[39mrepeat(\u001b[38;5;124m\"\u001b[39m\u001b[38;5;124mrow\u001b[39m\u001b[38;5;124m\"\u001b[39m), \u001b[38;5;28mtype\u001b[39m\u001b[38;5;241m=\u001b[39m\u001b[38;5;124m'\u001b[39m\u001b[38;5;124mquantitative\u001b[39m\u001b[38;5;124m'\u001b[39m)\n\u001b[1;32m      4\u001b[0m )\u001b[38;5;241m.\u001b[39mproperties(\n\u001b[1;32m      5\u001b[0m     width\u001b[38;5;241m=\u001b[39m\u001b[38;5;241m150\u001b[39m,\n\u001b[1;32m      6\u001b[0m     height\u001b[38;5;241m=\u001b[39m\u001b[38;5;241m150\u001b[39m\n\u001b[1;32m      7\u001b[0m )\u001b[38;5;241m.\u001b[39mrepeat(\n\u001b[1;32m      8\u001b[0m     row\u001b[38;5;241m=\u001b[39m[\u001b[38;5;124m'\u001b[39m\u001b[38;5;124mcounts_profileVisits\u001b[39m\u001b[38;5;124m'\u001b[39m],\n\u001b[1;32m      9\u001b[0m     column\u001b[38;5;241m=\u001b[39m[\u001b[38;5;124m'\u001b[39m\u001b[38;5;124mcounts_profileVisits\u001b[39m\u001b[38;5;124m'\u001b[39m,\u001b[38;5;124m'\u001b[39m\u001b[38;5;124mcounts_pictures\u001b[39m\u001b[38;5;124m'\u001b[39m,\u001b[38;5;124m'\u001b[39m\u001b[38;5;124mcounts_kisses\u001b[39m\u001b[38;5;124m'\u001b[39m,\u001b[38;5;124m'\u001b[39m\u001b[38;5;124mcounts_fans\u001b[39m\u001b[38;5;124m'\u001b[39m, \u001b[38;5;124m'\u001b[39m\u001b[38;5;124mcounts_details\u001b[39m\u001b[38;5;124m'\u001b[39m]\n\u001b[1;32m     10\u001b[0m )\u001b[38;5;241m.\u001b[39minteractive()\n",
      "\u001b[0;31mNameError\u001b[0m: name 'alt' is not defined"
     ]
    }
   ],
   "source": [
    "alt.Chart(df_train).mark_circle().encode(\n",
    "    alt.X(alt.repeat(\"column\"), type='quantitative'),\n",
    "    alt.Y(alt.repeat(\"row\"), type='quantitative')\n",
    ").properties(\n",
    "    width=150,\n",
    "    height=150\n",
    ").repeat(\n",
    "    row=['counts_profileVisits'],\n",
    "    column=['counts_profileVisits','counts_pictures','counts_kisses','counts_fans', 'counts_details']\n",
    ").interactive()"
   ]
  },
  {
   "cell_type": "markdown",
   "metadata": {},
   "source": [
    "Die Scatterplotts zeigen eine positive Korrelation zwischen counts_profilVisits und counts_kisses, was diese Variable als wichtigen Modellbestandteil herausstellt. Ein leicht positiver Zusammenhang zeigt sich auch bei counts_details, während die Korrelation bei counts_pictures und counts_fans schwer erkennbar ist. Diese werden vorerst ins Modell aufgenommen, und ihre Auswirkungen werden anschließend analysiert."
   ]
  },
  {
   "cell_type": "markdown",
   "metadata": {},
   "source": [
    "Die Analyse der Responsevariable \"profilVisits\" im Histogramm zeigt eine stark rechtsschiefe Verteilung. Die meisten Nutzer, etwa 1.700, haben bis zu 2.000 Profilbesuche."
   ]
  },
  {
   "cell_type": "markdown",
   "metadata": {},
   "source": [
    "Die Korrelationsmatrix fungiert als Darstellung des Einflusses verschiedener Prädiktorvariablen auf die abhängige Responsevariable. Alle Werte in der Matrix sind in diesem Fall positiv, was bedeutet, dass die Steigung einer Variable auch ein Anstieg in der Responsevariable erwartet wird.\n",
    "\n",
    "Besonders hervorstechend ist die Korrelation zwischen den Variablen \"counts_kisses\" und der Responsevariable \"counts_profileVisits\", die als die stärkste Verbindung erscheint. Direkt danach folgt die Variable \"counts_pictures\". Der Einfluss der Variablen \"Accountdetails\" und \"Fananzahl\" auf die Profilbesuche eher begrenzt."
   ]
  },
  {
   "cell_type": "markdown",
   "metadata": {},
   "source": [
    "##### Logistic Regression"
   ]
  },
  {
   "cell_type": "markdown",
   "metadata": {},
   "source": [
    "In der deskriptive Statistik fällt bezüglich der Variable \"Alter\" (age) auf, dass die Profile mit und ohne Fans nur geringfügige Unterschiede aufweisen. Das deutet auf eine schwache Beziehung zwischen Alter und Fans hin. \n",
    "\n",
    "Ein anderes Bild ergibt sich bei den Variablen \"Profilbesuche\" (counts_profileVisits), \"Detailansichten\" (counts_details) und \"Küsse\" (counts_kisses). Hier ist die Verteilung der Daten unterschiedlich zwischen den beiden Gruppen von Profilen. Diese U Variablen können potenziell als Vorhersagevariablen in Betracht gezogen werden, um die Wahrscheinlichkeit von Profilen mit Fans gegenüber Profilen ohne Fans zu erklären. Eine ähnliche, wenn auch weniger ausgeprägte, Verteilung zeigt \"Anzahl der Bilder\" (counts_pictures).\n",
    "\n",
    "Insgesamt zeigen diese Beobachtungen, dass insbesondere die Anzahl der Profilbesuche, Detailansichten, Küsse und Bilder, potenziell Einfluss auf die Präsenz von Fans haben könnten"
   ]
  },
  {
   "cell_type": "code",
   "execution_count": 2,
   "metadata": {
    "scrolled": true
   },
   "outputs": [
    {
     "ename": "NameError",
     "evalue": "name 'selected_columns' is not defined",
     "output_type": "error",
     "traceback": [
      "\u001b[0;31m---------------------------------------------------------------------------\u001b[0m",
      "\u001b[0;31mNameError\u001b[0m                                 Traceback (most recent call last)",
      "Cell \u001b[0;32mIn[2], line 2\u001b[0m\n\u001b[1;32m      1\u001b[0m charts \u001b[38;5;241m=\u001b[39m []\n\u001b[0;32m----> 2\u001b[0m \u001b[38;5;28;01mfor\u001b[39;00m column \u001b[38;5;129;01min\u001b[39;00m \u001b[43mselected_columns\u001b[49m:\n\u001b[1;32m      3\u001b[0m     chart \u001b[38;5;241m=\u001b[39m alt\u001b[38;5;241m.\u001b[39mChart(df_train_lor)\u001b[38;5;241m.\u001b[39mmark_boxplot(\n\u001b[1;32m      4\u001b[0m         size\u001b[38;5;241m=\u001b[39m\u001b[38;5;241m50\u001b[39m,\n\u001b[1;32m      5\u001b[0m         opacity\u001b[38;5;241m=\u001b[39m\u001b[38;5;241m0.7\u001b[39m\n\u001b[0;32m   (...)\u001b[0m\n\u001b[1;32m      9\u001b[0m         color\u001b[38;5;241m=\u001b[39m\u001b[38;5;124m'\u001b[39m\u001b[38;5;124mfans:N\u001b[39m\u001b[38;5;124m'\u001b[39m\n\u001b[1;32m     10\u001b[0m     )\u001b[38;5;241m.\u001b[39mproperties(width\u001b[38;5;241m=\u001b[39m\u001b[38;5;241m150\u001b[39m, height\u001b[38;5;241m=\u001b[39m\u001b[38;5;241m150\u001b[39m, title\u001b[38;5;241m=\u001b[39m\u001b[38;5;124mf\u001b[39m\u001b[38;5;124m'\u001b[39m\u001b[38;5;124mBoxplot for \u001b[39m\u001b[38;5;132;01m{\u001b[39;00mcolumn\u001b[38;5;132;01m}\u001b[39;00m\u001b[38;5;124m'\u001b[39m)\n\u001b[1;32m     12\u001b[0m     charts\u001b[38;5;241m.\u001b[39mappend(chart)\n",
      "\u001b[0;31mNameError\u001b[0m: name 'selected_columns' is not defined"
     ]
    }
   ],
   "source": [
    "charts = []\n",
    "for column in selected_columns:\n",
    "    chart = alt.Chart(df_train_lor).mark_boxplot(\n",
    "        size=50,\n",
    "        opacity=0.7\n",
    "    ).encode(\n",
    "        x='fans:N',\n",
    "        y=alt.Y(f'{column}:Q', scale=alt.Scale(zero=True)),\n",
    "        color='fans:N'\n",
    "    ).properties(width=150, height=150, title=f'Boxplot for {column}')\n",
    "\n",
    "    charts.append(chart)\n",
    "\n",
    "alt.vconcat(*[alt.hconcat(*charts[i:i+2]) for i in range(0, len(charts), 2)])"
   ]
  },
  {
   "cell_type": "markdown",
   "metadata": {},
   "source": [
    "Die detaillierten Boxplots bieten eine visuelle Bestätigung für unsere vorherigen Vermutungen, die aus den deskriptiven Statistiken abgeleitet wurden.\n",
    "\n",
    "Die Variable \"Anzahl der Detailansichten\" (counts_details) zeigt signifikante Unterschiede in der Verteilung zwischen Profilen mit und ohne Fans, was auf eine mögliche Beziehung hinweist. Profile mit Fans neigen dazu, höhere Werte für diese Variable zu haben, was bedeutet, dass mehr Profilangaben mit einer höheren Wahrscheinlichkeit von Fans korreliert.\n",
    "\n",
    "Die Variablen \"Anzahl der Profilbesuche\" (counts_profileVisits) und \"Anzahl der Küsse\" (counts_kisses) zeigen ähnliche Muster.  Sowohl die Profile mit Profilbesuchen als auch die Profile mit Küssen weisen tendenziell höhere Werte auf. Es ist jedoch wichtig zu beachten, dass es in beiden Fällen viele Ausreißer gibt. Diese Ausreißer könnten die Modellierung beeinflussen.\n",
    "\n",
    "Für die Variable \"Anzahl der Bilder\" (counts_pictures) zeigen die Boxplots ebenfalls unterschiedliche Verteilungen zwischen den beiden Gruppen, wenn auch weniger ausgeprägt als bei den zuvor genannten Variablen, sind sie signifikant genug, um die Variable als Vorhersagevariable zu nutzen.\n",
    "\n",
    "Zusammenfassend lässt sich sagen, dass die Variablen \"Anzahl der Detailansichten\", \"Anzahl der Profilbesuche\", \"Anzahl der Küsse\" und \"Anzahl der Bilder\"  eine vielversprechende Rolle bei der Generierung von Fans zu spielen scheinen. "
   ]
  },
  {
   "cell_type": "markdown",
   "metadata": {},
   "source": [
    "## 2. Methodology"
   ]
  },
  {
   "cell_type": "markdown",
   "metadata": {},
   "source": [
    "### 2.1 Lineare Regression"
   ]
  },
  {
   "cell_type": "markdown",
   "metadata": {},
   "source": [
    "#### 2.1.1 Variablenoptimierung"
   ]
  },
  {
   "cell_type": "markdown",
   "metadata": {},
   "source": [
    "Im vorliegenden Modell konnte bereits durch die Scatterplott Analyse eine Beziehung der Responsevariable zu den Variablen 'counts_profileVisits','counts_pictures','counts_kisses','counts_fans'und 'counts_details' identifiziert werden. Eine weitere mögliche Einflussgröße, das Alter des Users, wurde bei der Erstellung des Modells zunächst nicht berücksichtigt. Um ihren Einfluss auf die Vorhersage zu bestimmen, wurde sie jedoch anschließend dem Modell hinzugefügt, wordurch sich der R^2 Wert noch einmal geringfügig verbessserte. Jedoch wird die Interception, also der Schnittpunkt mit der y-Achse und somit die Anzahl der Profilbesuche bei leerem Profil, unrealistisch hoch. Vor allem unter Berücksichtigung der Mengenverteilung der Responsevariable, die den höchsten Ausschlag bei bis zu 2.000 Profile Visits hat, ist eine Interception von über 2.000 nicht tragbar. Deshalb wurde beschlossen, das Alter wieder aus dem Modell auszuschließen. \n",
    "\n"
   ]
  },
  {
   "cell_type": "markdown",
   "metadata": {},
   "source": [
    "#### 2.1.2 Eliminierung von Ausreißern"
   ]
  },
  {
   "cell_type": "markdown",
   "metadata": {},
   "source": [
    "\n",
    "Im Rahmen der Modellentwicklung wurden Ausreißer aus den Daten des linearen Regressionsmodells eliminiert, da der Mean Absolute Error (MAE) signifikant von der Root Mean Square Error (RMSE) abwich. Der MAE gibt die absolute Abweichung zwischen den vorhergesagten und tatsächlichen Werten an, während der RMSE diese Abweichungen quadriert und dann die Quadratwurzel davon nimmt. Im Allgemeinen neigt der RMSE dazu, stärker auf Ausreißer zu reagieren, da die quadrierte Abweichung größer wird, wenn Differenzen zwischen vorhergesagten und tatsächlichen Werten zunehmen.\n",
    "\n",
    "Die Entscheidung, Ausreißer zu eliminieren, basierte auf dem Ziel, die Modellgenauigkeit zu verbessern, insbesondere wenn der RSME durch Ausreißer beeinflusst wurde. Trotz dieser Bemühungen hat sich das Modell jedoch nicht verbessert. "
   ]
  },
  {
   "cell_type": "markdown",
   "metadata": {},
   "source": [
    "### 2.2 Logistische Regression"
   ]
  },
  {
   "cell_type": "markdown",
   "metadata": {},
   "source": [
    "#### 2.2.1 Resampling"
   ]
  },
  {
   "cell_type": "markdown",
   "metadata": {},
   "source": [
    "Resampling wird verwendet, um mit ungleichmäßigen Datenverteilungen in der binären Klassifikation umzugehen. Das Verhältnis der Merkmalsausprägungen für diesen Datensatz liegt bei einem Verhältnis von 1:3. Dies kann zur Folge haben, dass die Vorhersagen für die Profile ohne Fans (unterrepräsentierte Klasse) ungenauer sind. Durch das Anwenden von Resampling wird dieses Ungleichgewicht angepasst und die Vorhersagefähigkeit des Modells verbessert.\n",
    "\n",
    "Es gibt zwei Resampling-Methoden, Oversampling und Undersampling, die für dieses Projekt beide angewendet wurden, wobei der RandomSampler von ibmlearn verwendet wurde.\n",
    "\n",
    "Die Anwendung von Undersampling hat die Modellleistung signifikant verbessert, so konnten genauere Vorhersagen für die unterrepräsentierte Klasse, nämlich die Profile ohne Fans, zu erzielt werden."
   ]
  },
  {
   "cell_type": "markdown",
   "metadata": {},
   "source": [
    "#### 2.2.2 Threshold Optimierung"
   ]
  },
  {
   "cell_type": "markdown",
   "metadata": {},
   "source": [
    "Wir haben die Anpassung des Schwellenwerts eingesetzt, um die Leistung des Modells im Hinblick auf das Generieren von \"Fans\" auf Dating-Plattformen zu optimieren.\n",
    "\n",
    "Die Bedeutung wird deutlich, wenn wir die unterschiedlichen Auswirkungen von falsch positiven und falsch negativen Vorhersagen in diesem Kontext berücksichtigen. Auf Dating-Plattformen streben Benutzer primär nach Interaktion und Kommunikation mit anderen Nutzern. Dabei ist es weniger problematisch, wenn das Modell irrtümlicherweise vorhersagt, dass ein Benutzerprofil \"keine Fans\" generiert. Das bedeutet, dass falsch positive Vorhersagen, bei denen das Modell die Generierung von \"Fans\" vorhersagt, jedoch nicht eintritt, schwerwiegender sind.\n",
    "\n",
    "Wir haben im Rahmen dieser Analyse den Schwellenwert für die Vorhersagen auf drei verschiedene Werte festgelegt. Durch die Anhebung des Schwellenwerts haben wir insbesondere die Vorhersagen für Profile ohne \"Fans\" signifikant verbessert. Dennoch stellte sich heraus, dass diese Anpassung zu einer starken Ungleichgewichtung der Vorhersagen führte. Aus diesem Grund wurde der Schwellenwert von 0,5 beibehalten. Dieser Wert ermöglicht eine ausgewogene Berücksichtigung der Bedeutung von falsch positiven und falsch negativen Vorhersagen. "
   ]
  },
  {
   "cell_type": "markdown",
   "metadata": {},
   "source": [
    "#### 2.2.3 Reduktion der Predictorvariablen"
   ]
  },
  {
   "cell_type": "markdown",
   "metadata": {},
   "source": [
    "Während der Analyse der Beziehung zwischen den einzelnen Predictorvariablen und der Responsevariable wurde festgestellt, dass zwei dieser Variablen entweder einen sehr geringen oder sogar einen negativen Zusammenhang mit der Responsevariable aufwiesen. Angesichts dieser Erkenntnis wurde in Erwägung gezogen, diese beiden Variablen, nämlich \"counts_profileVisits\" und \"counts_kisses,\" aus dem Modell zu entfernen, um die Modellleistung zu verbessern.\n",
    "\n",
    "Nach Untersuchung der Kennzahlen zur Bewertung des Klassifikationsmodells ergab sich, dass die Entfernung dieser Variablen nicht zu einer signifikanten Verbesserung des Modells führte. Im Gegenteil, in einigen Fällen verschlechterte sich die Modellleistung leicht, wie beispielsweise bei den Kennzahlen ROC (Receiver Operating Characteristic) und AUC (Area Under the Curve). ADeshalb wurde entschieden, die beiden Variablen (\"counts_profileVisits\" und \"counts_kisses\") im Modell zu belassen."
   ]
  },
  {
   "cell_type": "markdown",
   "metadata": {},
   "source": [
    "## 3. Results"
   ]
  },
  {
   "cell_type": "markdown",
   "metadata": {},
   "source": [
    "### 3.1 Lineare Regression"
   ]
  },
  {
   "cell_type": "markdown",
   "metadata": {},
   "source": [
    "#### 3.1.1 Final model"
   ]
  },
  {
   "cell_type": "code",
   "execution_count": 25,
   "metadata": {},
   "outputs": [
    {
     "name": "stderr",
     "output_type": "stream",
     "text": [
      "C:\\Users\\vette\\anaconda3\\Lib\\site-packages\\sklearn\\base.py:347: InconsistentVersionWarning: Trying to unpickle estimator LinearRegression from version 1.3.2 when using version 1.3.0. This might lead to breaking code or invalid results. Use at your own risk. For more info please refer to:\n",
      "https://scikit-learn.org/stable/model_persistence.html#security-maintainability-limitations\n",
      "  warnings.warn(\n"
     ]
    }
   ],
   "source": [
    "reg = joblib.load(open('../models/20240109_LovooProfile_LinReg.sav', 'rb'))"
   ]
  },
  {
   "cell_type": "markdown",
   "metadata": {},
   "source": [
    "#### 3.1.2 Results of the model"
   ]
  },
  {
   "cell_type": "markdown",
   "metadata": {},
   "source": [
    "Der Intercept in einer linearen Regression repräsentiert den Schnittpunkt der Regressionsgeraden mit der y-Achse und gibt den erwarteten Wert der abhängigen Variable an, wenn alle unabhängigen Variablen den Wert null haben. Hier bedeutet er also, dass selbst wenn sämtliche Merkmale, wie Bilder, Informationen, Fans und Kisses, auf Null stehen, das Profil dennoch erwartungsgemäß 449 Profilbesuche generiert.\n",
    "\n",
    "Diese 449 Besuche liegen etwa 3000 Besuche unter der durchscnittlichen Anzahl der Visits auf einem Account. In der Realität könnte ein solcher Wert durchaus möglich sein, da Profile anderen Nutzern aktiv angezeigt werden und es möglicherweise nicht sofort ersichtlich ist, dass es sich um ein leeres Profil handelt. Es stellt sich jedoch die Frage, warum jemand, der ernsthaft an neuen Kontakten interessiert ist, ein leeres Profil erstellen sollte. Des Weiteren bleibt unklar, ob ein solches Profil überhaupt für die Anzeige auf der Plattform zulässig wäre.\n"
   ]
  },
  {
   "cell_type": "markdown",
   "metadata": {},
   "source": [
    "In diesem spezifischen Modell repräsentiert der Slope den Zuwachs an Profilbesuchen, der auf Veränderungen in den Profildetails, der Anzahl der Bilder, den erhaltenen Kisses oder der Anzahl der Fans zurückzuführen ist.\n",
    "\n",
    "Besonders hervorzuheben ist dabei der signifikante Einfluss das Hinzufügen eines neuen Bildes, der zu einem Zuwachs von 180 Profilaufrufen führt. Dies deutet darauf hin, dass die Aktualisierung des Profilbildes den größten Effekt auf die Anzahl der Besuche hat. Anschließend folgt die Ergänzung neuer Informationen im Profil, während die Zugänge neuer Kisses oder Fans vergleichsweise geringen Einfluss auszuüben scheinen."
   ]
  },
  {
   "cell_type": "markdown",
   "metadata": {},
   "source": [
    "\n",
    "Etwa 76% der Varianz in der Responsevariable können durch das vorliegende Modell erklärt werden.\n",
    "\n",
    "Ein RMSE von 3048 bedeutet, dass die vorhergesagte Anzahl der Profilbesucher im Durchschnitt um 3047 von den tatsächlichen Besucherzahlen abweichen kann. Da die durchschnittliche Anzahl der Profilbesuche lediglich bei 3428 liegt, erscheint dieser Wert als unverhältnismäßig hoch. Dies legt nahe, dass das Modell in seiner aktuellen Form nicht geeignet ist, die Anzahl der Besucher auf einem Lovoo-Profil präzise vorherzusagen.\n",
    "\n",
    "Der MAE von 1613 beschreibt die absolute Abweichung der vorhergesagten Besucheranzahl von der tatsächlichen. Interessanterweise liegt dieser Wert deutlich unter dem RMSE. Dies könnte darauf hinweisen, dass das Modell möglicherweise stark von Ausreißern beeinflusst wird, da der MAE weniger anfällig für extreme Werte ist im Vergleich zum RMSE. Die Eliminierung von Ausreißern im Modell war jedoch ergebnislos und trug nicht zur Verbesserung des Modells bei. "
   ]
  },
  {
   "cell_type": "markdown",
   "metadata": {},
   "source": [
    "#### 3.1.3 Results research question"
   ]
  },
  {
   "cell_type": "markdown",
   "metadata": {},
   "source": [
    "Für die lineare Regression wurden insgesamt vier Predictorvariablen verwendet (counts_details, counts_pictures, counts_kisses und couts_fans), um vorherzusagen, wie viele Profilbesuche in Lovoo Profil mit bestimmten Merkmalen erhalten wird. Das Modell soll also die Frage beantworten, wie stark sich ein neues hochgeladenes Bild, eine neue Information auf dem Profil, ein neuer Fan oder ein neuer Kiss auf die Anzahl der ProfilVisits auswirkt.\n",
    "\n",
    "Die größte Auswirkung auf die Anzahl der User, die das Profil besuchen, hat das Hochladen eines neuen Bildes, hier ist der Slope am größten, gefolgt von einem neuen Detail auf dem Profil. Das lässt sich dadurch erklären, dass bei beiden Variablen eine neue Information über den User hochgeladen wird, auf den andere Nutzer hingewiesen werden und der bei diesen möglicherweise das Interesse weckt. Die anderen Variablen erhöhen sich lediglich durch das Zutun anderer Nutzer auf der Plattform. Auch wenn die anderen beiden Predictorvariablen nur geringe Auswirkungen haben, sind alle Koeffizienten positiv, was bedeutet, dass sich grundsätzlich die Erhöhung jeder Predictorvariable auch positiv auf die Entwicklung der Profilbesuche auswirkt.\n",
    "\n",
    "Das Modell zeigt mit einem R^2 Score einen akzeptablen Wert, allerdings sind die durchschnittlichen Abweichungen der vorhergesagten Werte von den tatsächlichen Ergebnissen sehr groß, weshalb es fraglich ist, ob das Modell gerade bei Profil mit wenig Interaktion tatsächlich zielführend ist. Das Problem bleibt auch bei der Reduzierung der Predictorvariablen um die Variablen mit geringer Korrelation bestehen sowie bei Filterung der Ausreißer."
   ]
  },
  {
   "cell_type": "markdown",
   "metadata": {},
   "source": [
    "### 3.2 Logistische Regression"
   ]
  },
  {
   "cell_type": "markdown",
   "metadata": {},
   "source": [
    "#### 3.2.1 Final Model"
   ]
  },
  {
   "cell_type": "code",
   "execution_count": 30,
   "metadata": {},
   "outputs": [
    {
     "name": "stderr",
     "output_type": "stream",
     "text": [
      "C:\\Users\\vette\\anaconda3\\Lib\\site-packages\\sklearn\\base.py:347: InconsistentVersionWarning: Trying to unpickle estimator LogisticRegression from version 1.3.2 when using version 1.3.0. This might lead to breaking code or invalid results. Use at your own risk. For more info please refer to:\n",
      "https://scikit-learn.org/stable/model_persistence.html#security-maintainability-limitations\n",
      "  warnings.warn(\n"
     ]
    }
   ],
   "source": [
    "clfu = joblib.load(open('../models/20240109_LovooProfile_LogReg.sav', 'rb'))"
   ]
  },
  {
   "cell_type": "markdown",
   "metadata": {},
   "source": [
    "#### 3.2.2 Results of the model"
   ]
  },
  {
   "cell_type": "markdown",
   "metadata": {},
   "source": [
    "Der Intercept repräsentiert die Wahrscheinlichkeit, dass ein Profil Fans auf einer Dating-Plattform hat, wenn keine anderen Einflussfaktoren oder Merkmale berücksichtigt werden. Das bedeutet, wenn alle anderen Faktoren keine Brücksichtung finden und nur den Intercept betrachtet wird, zeigt dieser, wie wahrscheinlich es ist, dass ein Profil Fans hat.\n",
    "\n",
    "Ein negativer Intercept von -1,93 in unserem Modell deutet daraufhin, dass die Basiswahrscheinlichkeit für das Vorhandensein von Fans auf Dating-Plattformen sehr gering ist, wenn keine anderen Einflussfaktoren berücksichtigt werden. Dies bedeutet, dass die meisten Profile dazu neigen, keine Fans zu haben, es sei denn, es sind andere Einflussfaktoren im Spiel, die diese Wahrscheinlichkeit erhöhen.\n",
    "\n",
    "Bei Betrachtung der Predictorvariablen des Modells, wie \"counts_profileVisits,\" \"counts_details,\" \"counts_pictures,\" und \"counts_kisses,\" dann werden diese Variablen als Einflussfaktoren betrachtet. Ein negativer Intercept zeigt, dass diese Einflussfaktoren einen erheblichen Einfluss darauf haben, die Wahrscheinlichkeit zu erhöhen, dass ein Profil Fans generiert. Mit anderen Worten, es sind die Handlungen und Informationen, die ein Profil auf der Plattform hat (wie Besucher, hochgeladene Bilder, Details und Küsse), die die Chancen auf das Generieren von Fans erhöhen.\n",
    "\n",
    "Zusammengefasst bedeutet ein negativer Intercept, dass die meisten Profile dazu neigen, keine Fans zu haben, es sei denn, es gibt bestimmte Aktivitäten und Informationen auf dem Profil, die diese Wahrscheinlichkeit erhöhen. "
   ]
  },
  {
   "cell_type": "markdown",
   "metadata": {},
   "source": [
    "Bei Betrachtung der Koeffizienzwerte zeigt sich der Einfluss der Predictoren auf die Responsevariable.Die Variable \"counts_details\" weist einen positiven Koeffizienten von etwa 1.384021 auf, was darauf hinweist, dass eine Zunahme der Anzahl von Details auf einem Profil die Wahrscheinlichkeit erhöht, dass dieses Profil Fans generiert.\n",
    "\n",
    "Im Gegensatz dazu zeigt die Variable \"counts_kisses\" einen negativen Koeffizienten von etwa -0.000158. Dies deutet darauf hin, dass eine Zunahme der Anzahl von virtuellen Küssen auf einem Profil die Wahrscheinlichkeit leicht verringert, Fans zu generieren.\n",
    "\n",
    "Die Werte verdeutlichen, dass die Informationsdichte auf einem Profil, einschließlich der Vollständigkeit der Angaben und der Anzahl der hochgeladenen Bilder, einen wesentlichen Beitrag dazu leisten, ob ein Profil Fans generiert oder nicht. Im Vergleich dazu tragen Interaktionen wie Profilbesucher oder virtuelle Küsse weniger dazu bei, ob ein Profil Fans gewinnt oder nicht."
   ]
  },
  {
   "cell_type": "markdown",
   "metadata": {},
   "source": [
    "Das Modell hat einen Score-Wert von 0.7654. Dies stellt die Genauigkeit dar, mit der das Modell in der Lage ist, Vorhersagen auf Grundlage der Testdaten zu treffen. Das Modell hat in etwa 76,54 % der Fälle die richtige Vorhersage getroffen, ob ein Profil Fans auf Dating-Plattformen generiert oder nicht, basierend auf den zur Verfügung gestellten Testdaten.\n",
    "\n",
    "Diese Genauigkeit ist ein Maß dafür, wie gut das Modell die tatsächlichen Ergebnisse vorhersagen kann und gibt an, in welchem Ausmaß es die richtigen Schlussfolgerungen zieht."
   ]
  },
  {
   "cell_type": "code",
   "execution_count": null,
   "metadata": {},
   "outputs": [],
   "source": []
  },
  {
   "cell_type": "code",
   "execution_count": 36,
   "metadata": {
    "scrolled": true
   },
   "outputs": [
    {
     "data": {
      "image/png": "[encoded data removed]",
      "text/plain": [
       "<Figure size 640x480 with 2 Axes>"
      ]
     },
     "metadata": {},
     "output_type": "display_data"
    }
   ],
   "source": [
    "ConfusionMatrixDisplay.from_estimator(clfu, X_test_loru, y_test_loru);"
   ]
  },
  {
   "cell_type": "markdown",
   "metadata": {},
   "source": [
    "Precision : Die Präzision für die Klasse \"No\" beträgt 0,76, während die Präzision für die Klasse \"Yes\" bei 0,78 liegt. Die Präzision misst den Anteil der wahren positiven Vorhersagen (korrekt vorhergesagte \"No\" bzw. \"Yes\") im Verhältnis zu allen positiven Vorhersagen (sowohl korrekt als auch falsch). Eine höhere Präzision deutet darauf hin, dass das Modell weniger falsch positive Vorhersagen gemacht hat.\n",
    "\n",
    "Recall: Der Recall für die Klasse \"No\" beträgt 0,96, während der Recall für die Klasse \"Yes\" bei 0,32 liegt. Der Recall misst den Anteil der wahren positiven Vorhersagen im Verhältnis zu allen tatsächlichen positiven Fällen. Ein höherer Recall bedeutet, dass das Modell weniger falsch negative Vorhersagen gemacht hat.\n",
    "\n",
    "F1-Score: Der F1-Score ist ein harmonisches Mittelmaß zwischen Precision und Recall und beträgt 0,85 für die Klasse \"No\" und 0,45 für die Klasse \"Yes\". Ein hoher F1-Score deutet darauf hin, dass das Modell sowohl eine gute Präzision als auch einen guten Recall für diese Klasse aufweist.\n",
    "\n",
    "Accuracy : Die Accuracy des Modells beträgt 0,77, was bedeutet, dass etwa 77 % der Vorhersagen korrekt sind.\n",
    "Macro Avg und Weighted Avg: Diese Werte sind Durchschnittswerte für Precision, Recall und F1-Score. Der \"Macro Avg\" berechnet den Durchschnitt über alle Klassen mit gleicher Gewichtung, während der \"Weighted Avg\" die Klassen basierend auf ihrer Unterstützung gewichtet. In diesem Fall sind die Werte für \"Macro Avg\" und \"Weighted Avg\" ähnlich, da die Anzahl der Fälle aufgrund des Under-Sampling in beiden Klassen weniger variiert.\n",
    "\n",
    "Zusammenfassend zeigt der Bericht, dass das Modell für das Ereignis \"keine Fans\" bessere Voraussagen trifft als für den Fall, dass ein Profil Fans generiert."
   ]
  },
  {
   "cell_type": "code",
   "execution_count": 38,
   "metadata": {},
   "outputs": [
    {
     "data": {
      "image/png": "[encoded data removed]",
      "text/plain": [
       "<Figure size 640x480 with 1 Axes>"
      ]
     },
     "metadata": {},
     "output_type": "display_data"
    }
   ],
   "source": [
    "RocCurveDisplay.from_estimator(clfu, X_test_loru, y_test_loru) ;"
   ]
  },
  {
   "cell_type": "markdown",
   "metadata": {},
   "source": [
    "Der ROC-AUC-Wert (Receiver Operating Characteristic - Area Under the Curve) beträgt 0,7687. Dieser misst die Fähigkeit des Modells, wahre positive Raten (True Positive Rate) und falsche positive Raten (False Positive Rate) zu unterscheiden, indem die Fläche unter der ROC-Kurve berechnet.\n",
    "\n",
    "Eine ROC-AUC-Wert von 0,7687 zeigt an, dass das Modell eine zufriedenstellende Fähigkeit zur Unterscheidung zwischen den beiden Klassen (\"No\" und \"Yes\") aufweist.\n",
    "\n",
    "Besonders wichtig ist der ROC-AUC-Wert in diesem Modell, da die Klassenverteilung unausgeglichen ist, was bedeutet, dass es mehr Profile ohne Fans (\"No\") gibt als solche mit Fans (\"Yes\"). Zudem sind die Konsequenzen von falsch positiven und falsch negativen Vorhersagen unterschiedlich. Das bedeutet, dass das Modell erfolgreich darin ist, die Klassen trotz dieser Herausforderungen zu unterscheiden."
   ]
  },
  {
   "cell_type": "markdown",
   "metadata": {},
   "source": [
    "#### 3.2.3 Results research question"
   ]
  },
  {
   "cell_type": "markdown",
   "metadata": {},
   "source": [
    "Zur Vorhersage, ob ein Profil Fans generiert oder nicht, wurden in der Modellierung vier potenzielle Predictorvariablen berücksichtigt. Dazu gehören \"counts_profileVisits,\" \"counts_details,\" \"counts_pictures,\" und \"counts_kisses.\" Diese Variablen wurden auf ihre Beziehung zur untersuchten Responsevariablen \"fans\" hin analysiert.\n",
    "\n",
    "In diesem Kontext zeigt sich, dass \"counts_profileVisits,\" \"counts_details\" und \"counts_pictures\" alle einen positiven Zusammenhang zur Generierung von Fans aufweisen. Das bedeutet, je mehr Besucher ein Profil hat, desto wahrscheinlicher ist es, dass es Fans generiert. Ebenso verhält es sich mit der Anzahl der hochgeladenen Bilder und der Fülle an Details auf dem Profil. Interessanterweise ist der Zusammenhang zwischen der Anzahl der befüllten Details und der Generierung von Fans am stärksten ausgeprägt. Dies deutet darauf hin, dass das Hinzufügen von Informationen auf dem Profil einen entscheidenden Einfluss darauf hat, ob ein Nutzer zum Fan wird oder nicht.\n",
    "\n",
    "Auf der anderen Seite zeigt die vierte Prädiktorvariable, \"counts_kisses,\" einen negativen Zusammenhang. Dies kann möglicherweise dadurch erklärt werden, dass Nutzer, die ein Profil besuchen, sich tendenziell entscheiden, ob sie diesem Profil folgen und somit zu Fans werden, oder ob sie alternativ virtuelle Küsse hinterlassen, um ihr Interesse zu zeigen.\n",
    "\n",
    "Für dieses Modell liegt der Fokus darauf, falsch positive Vorhersagen zu minimieren, da das Hauptziel der Nutzer darin besteht, andere Personen auf der Plattform kennenzulernen und Fans zu generieren. Daher ist die Erkenntnis, wie Fans generiert werden können, von größerer Bedeutung als die Vorhersage, wie keine Fans generiert werden können. Aus diesem Grund sollte der Schwellenwert für das Modell tendenziell eher höher angesetzt werden, um die Wahrscheinlichkeit von falsch positiven Vorhersagen zu reduzieren. Dennoch ist es entscheidend, ein Gleichgewicht in den Vorhersagen aufrechtzuerhalten, um sicherzustellen, dass die Modellleistung insgesamt akzeptabel bleibt.\n",
    "\n",
    "Angesichts der Ungleichverteilung der Daten (im Verhältnis 1:3) ist die Genauigkeit der Vorhersagen, insbesondere für die korrekt negativ vorhergesagten Werte, hoch. Dies deutet darauf hin, dass das Modell dazu neigt, Profilen, die tatsächlich keine Fans generieren, korrekt als solche zu identifizieren. Die Anwendung von Under-Sampling hatte dabei einen positiven Einfluss auf die Güte des Modells und hat dazu beigetragen, die Ausgewogenheit zu verbessern.\n"
   ]
  },
  {
   "cell_type": "markdown",
   "metadata": {},
   "source": [
    "## 4. Discussion + Conclusion\n"
   ]
  },
  {
   "cell_type": "markdown",
   "metadata": {},
   "source": [
    "#### 4.1 Summary"
   ]
  },
  {
   "cell_type": "markdown",
   "metadata": {},
   "source": [
    "In unserem Projekt haben wir uns eingehend mit weiblichen Nutzerprofilen aus dem Jahr 2015 auf der Dating-Plattform Lovoo beschäftigt, um die Voraussetzungen zu identifizieren, die ein Profil erfüllen muss, um seine Chancen auf virtuelle Interaktion zu erhöhen. Diese Erkenntnisse gehen über die Erfolgsoptimierung von Profilen hinaus und ermöglichen Einblicke in soziokulturelle Dynamiken und digitale Kommunikationsstrategien.\n",
    "\n",
    "Unsere Forschungsfragen und Hypothesen gliederten sich in zwei Hauptthemen:\n",
    "\n",
    "Hypothese 1 - Lineare Regression: Hier haben wir untersucht, welche Faktoren die Anzahl der Profilbesuche beeinflussen. Unsere Hypothese lautete, dass die Informationsdichte des Profils, die Anzahl der hochgeladenen Bilder, die Anzahl der Profilbesuche und generierten Küsse sowie das Alter der Person signifikante Einflussfaktoren auf die Anzahl der Profilbesuche sind. Tatsächlich konnten wir feststellen, dass insbesondere das Hochladen neuer Bilder und das Hinzufügen neuer Informationen auf dem Profil einen erheblichen Einfluss auf die Anzahl der Profilbesuche haben. Unsere lineare Regression ermöglichte es uns, die Auswirkungen dieser Faktoren quantitativ zu bewerten. Obwohl unser Modell einen akzeptablen R^2-Score aufwies, stellten wir fest, dass die vorhergesagten Werte von den tatsächlichen Ergebnissen in einigen Fällen erheblich abwichen, insbesondere bei Profilen mit wenig Interaktion.\n",
    "\n",
    "Hypothese 2 - Logistische Regression: In dieser Hypothese haben wir uns darauf konzentriert, welche Merkmale eines Profils dazu beitragen, Fans zu generieren, das heißt, andere Nutzer dazu zu bewegen, dem Profil zu folgen. Unsere Annahme war, dass die Informationsdichte des Profils, die Anzahl der hochgeladenen Bilder, die Anzahl der Profilbesuche, generierte Küsse und das Alter der Person signifikante Prädiktoren für das Generieren von Fans sind. Tatsächlich stellten wir fest, dass die Anzahl der Profilbesuche, die Anzahl der Details auf dem Profil und die Anzahl der hochgeladenen Bilder einen positiven Einfluss auf die Wahrscheinlichkeit hatten, Fans zu generieren, während die Anzahl der virtuellen Küsse einen negativen Einfluss hatte. Unser logistisches Regressionsmodell half uns dabei, diese Zusammenhänge zu quantifizieren.\n",
    "\n",
    "Insgesamt liefern unsere Ergebnisse wertvolle Einblicke in die Dynamiken von Dating-Plattformen und die Bedeutung von Profilgestaltung und -interaktionen. "
   ]
  },
  {
   "cell_type": "markdown",
   "metadata": {},
   "source": [
    "#### 4.2 Limitations"
   ]
  },
  {
   "cell_type": "markdown",
   "metadata": {},
   "source": [
    "Folgende Limitierung sollten bei der Interpretation der Ergebnisse berücksichtigt werden:\n",
    "\n",
    "1. *Datierungsaspekt*: Die Datenerhebung erfolgte im Frühjahr 2015, was bedeutet, dass die Daten bereits relativ alt sind. In der schnelllebigen Welt der Online-Dating-Plattformen können sich Nutzerverhalten und -präferenzen im Laufe der Zeit erheblich verändern. Daher könnten unsere Erkenntnisse möglicherweise nicht mehr vollständig auf die aktuellen Gegebenheiten übertragen werden.\n",
    "\n",
    "2. *Einseitige Datenerhebung*: Die Datenerhebung erfolgte durch gezielte Erfassung von Nutzerprofilinformationen auf Lovoo. Dies führte dazu, dass der Datensatz stark einseitig ist, da er ausschließlich weibliche Nutzerprofile enthält. Diese Beschränkung erschwert die Generalisierung unserer Ergebnisse auf andere Geschlechter oder Altersgruppen erheblich. Um umfassendere Erkenntnisse zu gewinnen, wäre eine separate Datenerhebung mit entsprechenden Profilen notwendig gewesen.\n",
    "\n",
    "3. *Einschränkungen des Algorithmus*: Der Empfehlungsalgorithmus von Lovoo tendierte dazu, häufig dieselben Nutzerprofile auszugeben. Dies kann darauf hinweisen, dass der Algorithmus stark auf Faktoren wie den Standort und möglicherweise Cookies angewiesen war, um Nutzer in der Nähe zu empfehlen. Dies führte zu einer Begrenzung der Anzahl der unterschiedlichen Nutzerprofile in unserem Datensatz.\n",
    "\n",
    "4. *Ethische Aspekte*: Bei der Datenerhebung ist es wichtig, ethische Aspekte zu berücksichtigen. Die Erstellung von gefälschten Profilen und die Sammlung von Daten ohne das explizite Einverständnis der Nutzer könnten ethische Bedenken hervorrufen. Es ist daher entscheidend, sicherzustellen, dass bei der Durchführung solcher Studien ethische Standards eingehalten werden.\n",
    "\n",
    "Trotz dieser Begrenzungen bieten unsere Ergebnisse wertvolle Einblicke in die Welt der Online-Dating-Plattformen und liefern relevante Informationen zur Profilgestaltung und -interaktion. Dennoch sollte die Interpretation und Anwendung der Ergebnisse immer unter Berücksichtigung der obigen Punkte erfolgen."
   ]
  },
  {
   "cell_type": "markdown",
   "metadata": {},
   "source": [
    "#### 4.3 Ideas for future work"
   ]
  },
  {
   "cell_type": "markdown",
   "metadata": {},
   "source": [
    "Die Erforschung von Online-Dating-Plattformen hat in den letzten Jahren viel Aufmerksamkeit erhalten, da sie Einblicke in die komplexe Interaktion von Mensch und digitalen Technologien bietet. Unsere aktuelle Studie analysierte die Profile weiblicher Lovoo-Nutzer und lieferte wertvolle Erkenntnisse zu Erfolgsfaktoren. Dennoch gibt es viele unerforschte Bereiche, die weiter untersucht werden können. Drei faszinierende Forschungsrichtungen schlagen wir vor: ethnische und kulturelle Untersuchungen, Berücksichtigung verschiedener Plattformen und Langzeitstudien zur Bewertung des Nutzererfolgs. Diese Richtungen bieten die Möglichkeit, neues Wissen über Online-Dating und seine Auswirkungen auf menschliches Verhalten zu gewinnen.\n",
    "\n",
    "1. *Ethnische und kulturelle Untersuchungen*: Eine interessante Richtung für zukünftige Forschung wäre die Untersuchung, wie ethnische und kulturelle Unterschiede die Interaktion und den Erfolg auf Online-Dating-Plattformen beeinflussen. Dies könnte Einblicke in die Vielfalt der Online-Dating-Erfahrungen bieten und dazu beitragen, wie Plattformen auf kulturelle Sensibilität reagieren können.\n",
    "   \n",
    "3. *Berücksichtigung verschiedener Plattformen*: Da die aktuelle Studie sich auf Lovoo konzentriert hat, könnte zukünftige Forschung mehrere Online-Dating-Plattformen in Betracht ziehen, um Unterschiede und Gemeinsamkeiten in Bezug auf Profilinteraktion und Erfolgsfaktoren zu analysieren. \n",
    "   \n",
    "5. *Langzeitstudien mit Erfolgsbewertung*: Langzeitstudien, die das Nutzerverhalten und das Profilinteraktionsmuster im Laufe der Zeit verfolgen, könnten äußerst aufschlussreich sein. Es wäre wichtig, den Erfolg der Nutzer im Laufe der Zeit zu bewerten, um festzustellen, ob die auf den Plattformen angewandten Strategien langfristig erfolgreich sind oder sich im Laufe der Zeit ändern. Dies könnte Einblicke in die Nachhaltigkeit von Online-Dating-Beziehungen bieten."
   ]
  },
  {
   "cell_type": "code",
   "execution_count": null,
   "metadata": {},
   "outputs": [],
   "source": []
  }
 ],
 "metadata": {
  "kernelspec": {
   "display_name": "Python 3 (ipykernel)",
   "language": "python",
   "name": "python3"
  },
  "language_info": {
   "codemirror_mode": {
    "name": "ipython",
    "version": 3
   },
   "file_extension": ".py",
   "mimetype": "text/x-python",
   "name": "python",
   "nbconvert_exporter": "python",
   "pygments_lexer": "ipython3",
   "version": "3.11.4"
  },
  "vscode": {
   "interpreter": {
    "hash": "31f2aee4e71d21fbe5cf8b01ff0e069b9275f58929596ceb00d14d90e3e16cd6"
   }
  }
 },
 "nbformat": 4,
 "nbformat_minor": 4
}
