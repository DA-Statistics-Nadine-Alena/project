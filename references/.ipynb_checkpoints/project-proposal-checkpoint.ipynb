{
 "cells": [
  {
   "cell_type": "markdown",
   "metadata": {},
   "source": [
    "# Project proposal\n",
    "\n",
    "---\n",
    "\n",
    "Group name: DA-Statistics-Nadine-Alena\n",
    "\n",
    "---\n"
   ]
  },
  {
   "cell_type": "markdown",
   "metadata": {},
   "source": [
    "## Introduction\n",
    "\n",
    "The introduction section includes\n",
    "\n",
    "-   an introduction to the subject matter you're investigating\n",
    "-   the motivation for your research question (citing any relevant literature)\n",
    "-   the general research question you wish to explore\n",
    "-   your hypotheses regarding the research question of interest."
   ]
  },
  {
   "attachments": {},
   "cell_type": "markdown",
   "metadata": {},
   "source": [
    "\n",
    "## Data description\n",
    "\n",
    "In this section, you will describe the data set you wish to explore. This includes\n",
    "\n",
    "-   description of the observations in the data set,\n",
    "-   description of how the data was originally collected (not how you found the data but how the original curator of the data collected it).\n",
    "\n",
    "- gender: Das Geschlecht kann grundsätzlich die Ausprägungen \"F\" für Female, \"M\" für Male oder \"U\" für Undefinded annehmen. Dabei bezieht sich das Geschlecht auf die Person, die das Profil erstellt hat und durch dieses repräsentiert wird.\n",
    "- genderLooking:\n",
    "- age:\n",
    "- name:\n",
    "- counts_details:\n",
    "- counts_pictures:\n",
    "- counts_profileVisits:\n",
    "- counts_kisses:\n",
    "- counts_fans:\n",
    "- counts_g:\n",
    "- flirtInterests_chat:\n",
    "- flirtInterests_friends:\n",
    "- flirtInterests_date:\n",
    "- country:\n",
    "- city:\n",
    "- location:\n",
    "- distance:\n",
    "- isFlirtstar:\n",
    "- isHighlighted:\n",
    "- isInfluencer:\n",
    "- isMobile:\n",
    "- isNew:\n",
    "- isOnline:\n",
    "- isVip:\n",
    "- lang_count:\n",
    "- lang_fr:\n",
    "- lang_en:\n",
    "- lang_de:\n",
    "- lang_it:\n",
    "- lang_es:\n",
    "- lang_pt:\n",
    "- verified:\n",
    "- shareProfileEnabled:\n",
    "- lastOnlineDate:\n",
    "- lastOnlineTime:\n",
    "- birthd:\n",
    "- crypt:\n",
    "- freetext:\n",
    "- whazzup:\n",
    "- pictureId:\n",
    "- userId:\n",
    "- isSystemProfile:\n",
    "\n",
    "\n",
    "\n"
   ]
  },
  {
   "cell_type": "markdown",
   "metadata": {},
   "source": [
    "\n",
    "## Analysis approach\n",
    "\n",
    "In this section, you will provide a brief overview of your analysis approach. This includes:\n",
    "\n",
    "-   Description of the response variable.\n",
    "-   Visualization and summary statistics for the response variable.\n",
    "-   List of variables that will be considered as predictors\n",
    "-   Your model type (what kind of model(s) will you use ... e.g. linear regression)"
   ]
  },
  {
   "cell_type": "markdown",
   "metadata": {},
   "source": [
    "## Data dictionary\n",
    "\n",
    "*Create a data dictionary for all the variables in your data set. You may fill out the data description table or create your own table with Pandas:*\n",
    "\n",
    "<br>\n",
    "\n",
    "\n",
    "| Name  |   Description\t| Role   \t| Type   \t|  Format \t|\n",
    "|---\t|---\t        |---    \t|---\t    |---\t|\n",
    "|   \t|   \t        |   \t    |   \t    |   \t|\n",
    "|   \t|   \t        |   \t    |   \t    |   \t|\n",
    "|   \t|   \t        |   \t    |   \t    |   \t|\n",
    "\n",
    "\n",
    "<br>\n",
    "\n",
    "- `Role`: response, predictor, ID (ID columns are not used in a model but can help to better understand the data)\n",
    "\n",
    "- `Type`: nominal, ordinal or numeric\n",
    "\n",
    "- `Format`: int, float, string, category, date or object"
   ]
  }
 ],
 "metadata": {
  "kernelspec": {
   "display_name": "Python 3 (ipykernel)",
   "language": "python",
   "name": "python3"
  },
  "language_info": {
   "codemirror_mode": {
    "name": "ipython",
    "version": 3
   },
   "file_extension": ".py",
   "mimetype": "text/x-python",
   "name": "python",
   "nbconvert_exporter": "python",
   "pygments_lexer": "ipython3",
   "version": "3.11.4"
  },
  "vscode": {
   "interpreter": {
    "hash": "463226f144cc21b006ce6927bfc93dd00694e52c8bc6857abb6e555b983749e9"
   }
  }
 },
 "nbformat": 4,
 "nbformat_minor": 2
}
