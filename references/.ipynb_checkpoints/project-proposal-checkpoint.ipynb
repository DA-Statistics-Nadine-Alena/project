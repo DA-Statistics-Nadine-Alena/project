{
 "cells": [
  {
   "cell_type": "markdown",
   "metadata": {},
   "source": [
    "# Project proposal\n",
    "\n",
    "---\n",
    "\n",
    "Group name: DA-Statistics-Nadine-Alena\n",
    "\n",
    "---\n"
   ]
  },
  {
   "cell_type": "markdown",
   "metadata": {},
   "source": [
    "## Introduction\n",
    "\n",
    "The introduction section includes\n",
    "\n",
    "-   an introduction to the subject matter you're investigating\n",
    "-   the motivation for your research question (citing any relevant literature)\n",
    "-   the general research question you wish to explore\n",
    "-   your hypotheses regarding the research question of interest."
   ]
  },
  {
   "attachments": {},
   "cell_type": "markdown",
   "metadata": {},
   "source": [
    "\n",
    "## Data description\n",
    "\n",
    "In this section, you will describe the data set you wish to explore. This includes\n",
    "\n",
    "-   description of the observations in the data set,\n",
    "-   description of how the data was originally collected (not how you found the data but how the original curator of the data collected it).\n",
    "\n",
    "- gender: Das Geschlecht kann grundsätzlich die Ausprägungen \"F\" für Female, \"M\" für Male oder \"U\" für Undefinded annehmen. Dabei bezieht sich das Geschlecht auf die Person, die das Profil erstellt hat und durch dieses repräsentiert wird.\n",
    "\n",
    "- genderLooking: Das Geschlecht, nach dem gesucht wird, kann grundsätzlich die gleichen Ausprägungen annehmen, wie beim Profilinhaber. Hierbei bezieht sich die Angabe jedoch auf den potetiellen Partner und drückt damit die sexuelle Orientierung des  Users wieder. Theoretisch ist es bei Dating Apps auch möglich anzugeben, dass das Geschlecht eines Partners keine Rolle spielt. Die Angabe, die bei \"genderLooking\" gemacht wird, bestimmt, welche Personengruppen dem Nutzer angezeigt werden. Der Generator des ursprünglichen Datensatzes hat so beispielsweise angegeben, dass er nach Frauen sucht, weshalb ihm auf seinem Profil lediglich Frauen angezeigt wurden.\n",
    "\n",
    "- age: In dieser Spalte wird das Alter des Profilinhabers angegeben. Das ermöglicht eine konkrete Suche nach Personen im gleichen Alter oder nach anderen präferierten Altersgruppen.\n",
    "\n",
    "- name: Die Spalte \"Name\" ist hier als Nutzername zu verstehen. Der hier gewählte Ausdruck kann also z.B. nur der Vorname einer Persön sein, aber auch der Spitzname oder ein frei gewählter Begriff. Er wird potenziellen Matches in der App angezeigt.\n",
    "\n",
    "- counts_details:\n",
    "- counts_pictures:\n",
    "- counts_profileVisits:\n",
    "- counts_kisses: \"Kisses\" sind Ausruck von Aufmerksamkeit auf der Plattform, die User verwenden können, um gegenüber anderen Nutzern ihr Interesse auszudrücken. Die virtuellen Küsse bieten Möglichkeit, jemandem zu signalisieren, das Interesse an einem Kontaktaufbau besteht oder denjenigen auf das eigene Profil zu locken. In der Regel können Kisses gekauft oder durch bestimmte Aktionen auf der Plattform verdient werden.\n",
    "\n",
    "- counts_fans: Fan auf Lovoo wird man, indem man das Profil eines anderen Nutzers marierkt und diesem folgt. Ähnlich wie bei anderen Social Media Kanälen wie z.B. Instagram, wird man dann über neue Beiträge eines Profils auf dem laufenden Gehalten und verliert dieses nicht aus den Augen. \n",
    "\n",
    "- counts_g:\n",
    "- flirtInterests_chat:\n",
    "- flirtInterests_friends:\n",
    "- flirtInterests_date:\n",
    "- country:\n",
    "- city:\n",
    "- location:\n",
    "- distance:\n",
    "- isFlirtstar:\n",
    "- isHighlighted: Mit der Highlight Funktion auf Lovoo ist es den Usern möglich, das eigene Profil gegenüber anderen hervorzuheben. Das Profil wird dann über den Zeitraum des Highlights bei potenziellen Partnern in der Umgebung verstärkt angezeigt und erhöht damit die Möglichkeit, von anderen gesehen zu werden und damit das perfekte Match zu bekommen.\n",
    "\n",
    "- isInfluencer:\n",
    "- isMobile:\n",
    "- isNew:\n",
    "- isOnline:\n",
    "- isVip:\n",
    "- lang_count:\n",
    "- lang_fr:\n",
    "- lang_en:\n",
    "- lang_de:\n",
    "- lang_it:\n",
    "- lang_es:\n",
    "- lang_pt:\n",
    "- verified:\n",
    "- shareProfileEnabled:\n",
    "- lastOnlineDate:\n",
    "- lastOnlineTime:\n",
    "- birthd:\n",
    "- crypt:\n",
    "- freetext:\n",
    "- whazzup:\n",
    "- pictureId:\n",
    "- userId:\n",
    "- isSystemProfile:\n",
    "\n",
    "\n",
    "\n"
   ]
  },
  {
   "cell_type": "markdown",
   "metadata": {},
   "source": [
    "\n",
    "## Analysis approach\n",
    "\n",
    "In this section, you will provide a brief overview of your analysis approach. This includes:\n",
    "\n",
    "-   Description of the response variable.\n",
    "-   Visualization and summary statistics for the response variable.\n",
    "-   List of variables that will be considered as predictors\n",
    "-   Your model type (what kind of model(s) will you use ... e.g. linear regression)"
   ]
  },
  {
   "cell_type": "markdown",
   "metadata": {},
   "source": [
    "## Data dictionary\n",
    "\n",
    "*Create a data dictionary for all the variables in your data set. You may fill out the data description table or create your own table with Pandas:*\n",
    "\n",
    "<br>\n",
    "\n",
    "\n",
    "| Name  |   Description\t| Role   \t| Type   \t|  Format \t|\n",
    "|---\t|---\t        |---    \t|---\t    |---\t|\n",
    "|   \t|   \t        |   \t    |   \t    |   \t|\n",
    "|   \t|   \t        |   \t    |   \t    |   \t|\n",
    "|   \t|   \t        |   \t    |   \t    |   \t|\n",
    "\n",
    "\n",
    "<br>\n",
    "\n",
    "- `Role`: response, predictor, ID (ID columns are not used in a model but can help to better understand the data)\n",
    "\n",
    "- `Type`: nominal, ordinal or numeric\n",
    "\n",
    "- `Format`: int, float, string, category, date or object"
   ]
  }
 ],
 "metadata": {
  "kernelspec": {
   "display_name": "Python 3 (ipykernel)",
   "language": "python",
   "name": "python3"
  },
  "language_info": {
   "codemirror_mode": {
    "name": "ipython",
    "version": 3
   },
   "file_extension": ".py",
   "mimetype": "text/x-python",
   "name": "python",
   "nbconvert_exporter": "python",
   "pygments_lexer": "ipython3",
   "version": "3.11.4"
  },
  "vscode": {
   "interpreter": {
    "hash": "463226f144cc21b006ce6927bfc93dd00694e52c8bc6857abb6e555b983749e9"
   }
  }
 },
 "nbformat": 4,
 "nbformat_minor": 2
}
