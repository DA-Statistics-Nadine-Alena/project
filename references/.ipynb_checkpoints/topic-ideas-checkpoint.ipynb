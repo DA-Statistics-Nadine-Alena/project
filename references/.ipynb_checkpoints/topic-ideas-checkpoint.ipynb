{
 "cells": [
  {
   "cell_type": "markdown",
   "metadata": {},
   "source": [
    "# Topic ideas\n",
    "\n",
    "---\n",
    "\n",
    "Group name: Gruppe C\n",
    "\n",
    "---\n",
    "\n",
    "*Replace the italic texts with your descriptions*"
   ]
  },
  {
   "cell_type": "markdown",
   "metadata": {},
   "source": [
    "## Name of topic idea 1\n",
    "\n",
    "### Data source\n",
    "\n",
    "Den Datensatz für unser Projekt haben wir auf der nachfolgenden Website gefunden und heruntergeladen.\n",
    "https://data.world/jfreex/dating-app-user-profiles-stats-lovoo-v3\n",
    "\n",
    "Im Frühjahr 2015 wurden die Daten für diesen Datensatz erhoben. Um die Daten von LOVOO zu speichern, hat der Erheber der Daten Tools zum Durchsuchen und speichern der Daten aus den Profilen erstellt. Aufgrund der Einschränkungen, die sich dabei ergaben, enthält der Datensatz nur Nutzerdaten von weiblichen Nutzern. \n",
    "\n",
    "*State the source of the data set and describe when and how it was originally collected (by the original data curator, not necessarily how you found the data)*\n",
    "\n",
    "\n",
    "### Data characterisitcs\n",
    "\n",
    "Der zugrundeliegende Datensatz beinhaltet User Daten von LOVOO. Bei LOVOO handelt es sich um eine Dating-Plattform. Die Nutzer verwenden einen App um ander Nutzer unter Berücksichtung der Standortdaten kennzulernen. LOVOO gibt es bereits seit 2011.\n",
    "\n",
    "Der Datensatz enthält Angaben, die die Nutzer auf ihrem Profil gemacht haben, wie beispielweise Name, Alter oder auch das Geschlecht des gesuchten Partners. Darüber hinaus sind auch Statusdaten des Profils ein Teil des Datensatzes, wie zum Beispiel die Anzahl der Fans oder Kisses. Auch der aktuelle Status des Nutzers wird in den Daten aufgeführt. \n",
    "\n",
    "*Describe the observations and the general characteristics being measured in the data (note that the data needs to meet the  criteria described in the project description)*\n",
    "\n",
    "### Research question\n",
    "\n",
    "Bei der Nutzung von Dating-Apps gibt es oft Unterschiede zwischen den Geschlecht der Nutzer. Aus diesem Grund möchten wir überprüfen inwieweit das Geschlecht eines Nutzer über die vorhanden Daten vorausgesagt werden kann, wie zum Beispiel die Aktivitäten, der Status oder auch die Profilbesuche.\n",
    "\n",
    "Die Anzahl der Profilbesuche ist ein Faktor wie erfolgreich der Nutzer bei der Suche nach einem Match oder sogar zukünftigen Partner ist. Aus diesem Grund möchten wir genauer untersuchen welchen Einfluss verschiedene Faktoren auf die Anzahl der Profilbesuche hat. Mögliche Einflussfaktoren sind beispielweise Interessen, Aktivität oder auch der Standort eines Nutzers.\n",
    "\n",
    "*Describe a research question you're interested in answering using this data. State the response variable and possible predictor variables.*\n",
    "\n",
    "### Overview of data\n",
    "\n",
    "*Use the Pandas functions to provide an overview of the data set*\n"
   ]
  },
  {
   "cell_type": "code",
   "execution_count": null,
   "metadata": {},
   "outputs": [],
   "source": []
  }
 ],
 "metadata": {
  "kernelspec": {
   "display_name": "Python 3 (ipykernel)",
   "language": "python",
   "name": "python3"
  },
  "language_info": {
   "codemirror_mode": {
    "name": "ipython",
    "version": 3
   },
   "file_extension": ".py",
   "mimetype": "text/x-python",
   "name": "python",
   "nbconvert_exporter": "python",
   "pygments_lexer": "ipython3",
   "version": "3.11.6"
  },
  "vscode": {
   "interpreter": {
    "hash": "463226f144cc21b006ce6927bfc93dd00694e52c8bc6857abb6e555b983749e9"
   }
  }
 },
 "nbformat": 4,
 "nbformat_minor": 4
}
